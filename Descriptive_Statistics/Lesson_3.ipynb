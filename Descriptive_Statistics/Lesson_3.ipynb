{
 "cells": [
  {
   "cell_type": "markdown",
   "id": "fb6c8029",
   "metadata": {},
   "source": [
    "# Lesson 3 — Descriptive Statistics"
   ]
  },
  {
   "cell_type": "markdown",
   "id": "2e1c3b6b",
   "metadata": {},
   "source": [
    "Exploring Distributions: Investigating skewness, kurtosis, and distribution shapes."
   ]
  },
  {
   "cell_type": "code",
   "execution_count": null,
   "id": "e7db1da5",
   "metadata": {},
   "outputs": [],
   "source": [
    "# 🧪 Practice your Python statistical analysis code below:\n"
   ]
  }
 ],
 "metadata": {},
 "nbformat": 4,
 "nbformat_minor": 5
}
