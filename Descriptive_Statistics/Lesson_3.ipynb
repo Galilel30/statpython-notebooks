{
  "cells": [
    {
      "cell_type": "markdown",
      "id": "fb6c8029",
      "metadata": {
        "id": "fb6c8029"
      },
      "source": [
        "# Lesson 3 — Descriptive Statistics"
      ]
    },
    {
      "cell_type": "markdown",
      "id": "2e1c3b6b",
      "metadata": {
        "id": "2e1c3b6b"
      },
      "source": [
        "🔹 Assignment 1: Skew It!\n",
        "\n",
        "###Objective:\n",
        "Understand how skewness reflects data asymmetry.\n",
        "\n",
        "Instructions:\n",
        "\n",
        "  * Simulate or use the following data (right-skewed):\n",
        "\n",
        "        data = [10, 12, 13, 13, 14, 15, 16, 18, 19, 50]\n",
        "\n",
        "  * Use scipy.stats.skew() to compute skewness.\n",
        "\n",
        "  * Create a histogram of the data.\n",
        "\n",
        "Challenge:\n",
        "What does positive skewness mean in this context?\n",
        "\n"
      ]
    },
    {
      "cell_type": "code",
      "execution_count": null,
      "id": "e7db1da5",
      "metadata": {
        "id": "e7db1da5"
      },
      "outputs": [],
      "source": [
        "# 🧪 Practice your Python statistical analysis code below:\n"
      ]
    },
    {
      "cell_type": "markdown",
      "metadata": {
        "id": "pZiZicjoj6GO"
      },
      "source": [
        "🔹 Assignment 2: Fat Tails — Investigating Kurtosis\n",
        "\n",
        "###Objective:\n",
        "Explore how peaked or flat a distribution is.\n",
        "\n",
        "Instructions:\n",
        "\n",
        "  * Use scipy.stats.kurtosis() to calculate kurtosis of:\n",
        "\n",
        "        data_normal = [50, 52, 48, 49, 51, 50, 50, 50, 49, 51]\n",
        "        data_peaked = [50, 50, 50, 50, 50, 55, 45, 60, 40, 50]\n",
        "\n",
        "  * Plot both datasets as histograms.\n",
        "\n",
        "  * Compare kurtosis values and shapes.\n",
        "\n",
        "Challenge:\n",
        "Why might high kurtosis be problematic in modeling?\n",
        "\n"
      ],
      "id": "pZiZicjoj6GO"
    }
  ],
  "metadata": {
    "colab": {
      "provenance": []
    }
  },
  "nbformat": 4,
  "nbformat_minor": 5
}