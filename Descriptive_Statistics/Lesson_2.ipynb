{
  "cells": [
    {
      "cell_type": "markdown",
      "id": "da9472c3",
      "metadata": {
        "id": "da9472c3"
      },
      "source": [
        "# Lesson 2 — Descriptive Statistics"
      ]
    },
    {
      "cell_type": "markdown",
      "id": "a5e25434",
      "metadata": {
        "id": "a5e25434"
      },
      "source": [
        "🔹 Assignment 1: How Variable Are the Fish Weights?\n",
        "\n",
        "###Objective: Analyze how spread out a dataset is.\n",
        "\n",
        "Instructions:\n",
        "\n",
        "  * Use the fish weight data from Lesson 1 Assignment 1.\n",
        "  * Calculate:\n",
        "        - Range\n",
        "        - Variance\n",
        "        - Standard deviation\n",
        "        - Coefficient of variation (CV)\n",
        "\n",
        "  * Print all results in a clear format.\n",
        "\n",
        "Challenge:\n",
        "What does the CV tell you that the standard deviation alone cannot?"
      ]
    },
    {
      "cell_type": "code",
      "execution_count": null,
      "id": "41050273",
      "metadata": {
        "id": "41050273"
      },
      "outputs": [],
      "source": [
        "# 🧪 Practice your Python statistical analysis code below:\n"
      ]
    },
    {
      "cell_type": "markdown",
      "metadata": {
        "id": "V7iw_p5MiRhW"
      },
      "source": [
        "🔹 Assignment 2: Visualize with Boxplots\n",
        "\n",
        "###Objective: Explore distribution and outliers using boxplots.\n",
        "\n",
        "Instructions:\n",
        "\n",
        "  * Use the same species_a and species_b datasets.\n",
        "  * Generate side-by-side boxplots using matplotlib or seaborn.\n",
        "  * Label each plot appropriately.\n",
        "\n",
        "###Expected Output\n",
        "*Boxplot comparing the two species’ weight distributions.*\n",
        "\n",
        "Challenge:\n",
        "What can you infer from the shape and spread of each boxplot?"
      ],
      "id": "V7iw_p5MiRhW"
    },
    {
      "cell_type": "code",
      "execution_count": null,
      "metadata": {
        "id": "43VIrbaMiTgu"
      },
      "outputs": [],
      "source": [
        "# 🧪 Practice your Python statistical analysis code below:\n"
      ],
      "id": "43VIrbaMiTgu"
    }
  ],
  "metadata": {
    "colab": {
      "provenance": []
    }
  },
  "nbformat": 4,
  "nbformat_minor": 5
}