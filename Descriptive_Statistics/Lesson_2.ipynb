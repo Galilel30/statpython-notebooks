{
 "cells": [
  {
   "cell_type": "markdown",
   "id": "da9472c3",
   "metadata": {},
   "source": [
    "# Lesson 2 — Descriptive Statistics"
   ]
  },
  {
   "cell_type": "markdown",
   "id": "a5e25434",
   "metadata": {},
   "source": [
    "Measures of Dispersion: Variability measures including range, variance, standard deviation, interquartile range, coefficient of variation, and boxplots."
   ]
  },
  {
   "cell_type": "code",
   "execution_count": null,
   "id": "41050273",
   "metadata": {},
   "outputs": [],
   "source": [
    "# 🧪 Practice your Python statistical analysis code below:\n"
   ]
  }
 ],
 "metadata": {},
 "nbformat": 4,
 "nbformat_minor": 5
}
