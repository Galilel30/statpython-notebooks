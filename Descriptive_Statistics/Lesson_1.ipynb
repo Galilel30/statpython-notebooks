{
 "cells": [
  {
   "cell_type": "markdown",
   "id": "81a5af52",
   "metadata": {},
   "source": [
    "# Lesson 1 — Descriptive Statistics"
   ]
  },
  {
   "cell_type": "markdown",
   "id": "8469f552",
   "metadata": {},
   "source": [
    "Measures of Central Tendency: Calculating mean, median, mode, and other location statistics."
   ]
  },
  {
   "cell_type": "code",
   "execution_count": null,
   "id": "1be389d5",
   "metadata": {},
   "outputs": [],
   "source": [
    "# 🧪 Practice your Python statistical analysis code below:\n"
   ]
  }
 ],
 "metadata": {},
 "nbformat": 4,
 "nbformat_minor": 5
}
