{
  "cells": [
    {
      "cell_type": "markdown",
      "id": "c1278629",
      "metadata": {
        "id": "c1278629"
      },
      "source": [
        "[![Open In Colab](https://colab.research.google.com/assets/colab-badge.svg)](https://colab.research.google.com/github/Galilel30/statpython-notebooks/blob/main/Descriptive_Statistics/Lesson_1.ipynb?copy_to_drive=true)"
      ]
    },
    {
      "cell_type": "markdown",
      "id": "71ae987d",
      "metadata": {
        "id": "71ae987d"
      },
      "source": [
        "# Assignment 1 - Measures of Central Tendency\n",
        "\n",
        "**Module:** Descriptive Statistics"
      ]
    },
    {
      "cell_type": "markdown",
      "metadata": {
        "id": "26ec9a23"
      },
      "source": [
        "## Practice Exercise (100 points)\n",
        "\n",
        "Now it's time to practice what you've learned!\n",
        "\n",
        "Instructions:\n",
        "\n",
        "- Go to the file tab and click \"Save a copy in drive\"\n",
        "- Read the problem carefully\n",
        "- Write your code in the cell below\n",
        "- Test your solution\n",
        "- Experiment with different approaches"
      ],
      "id": "26ec9a23"
    },
    {
      "cell_type": "markdown",
      "metadata": {
        "id": "55acaa7a"
      },
      "source": [
        "Write your:\n",
        "\n",
        "- Full Name\n",
        "- Date"
      ],
      "id": "55acaa7a"
    },
    {
      "cell_type": "code",
      "source": [
        "Full Name:\n",
        "Date:"
      ],
      "metadata": {
        "id": "a886-57roe5C"
      },
      "execution_count": null,
      "outputs": [],
      "id": "a886-57roe5C"
    },
    {
      "cell_type": "markdown",
      "source": [
        "### Task 1: Knowledge & Understanding (20 points)"
      ],
      "metadata": {
        "id": "1vbUMwIxoyT-"
      },
      "id": "1vbUMwIxoyT-"
    },
    {
      "cell_type": "markdown",
      "source": [
        "Identifying the Right Measure. Select the most appropriate measure of central tendency for each situation. (5 pts each)"
      ],
      "metadata": {
        "id": "egGiw9vHpBvt"
      },
      "id": "egGiw9vHpBvt"
    },
    {
      "cell_type": "markdown",
      "source": [
        "1. A researcher wants to summarize the average income of fishermen in a coastal village (data is skewed).\n",
        "\n",
        "- a) Mean\n",
        "- b) Median\n",
        "- c) Mode\n",
        "- d) Range"
      ],
      "metadata": {
        "id": "H-SvtUMGB9zV"
      },
      "id": "H-SvtUMGB9zV"
    },
    {
      "cell_type": "code",
      "execution_count": null,
      "metadata": {
        "id": "d72e71c0"
      },
      "outputs": [],
      "source": [
        "# 🧪 Place your answer below:"
      ],
      "id": "d72e71c0"
    },
    {
      "cell_type": "markdown",
      "source": [
        "2. Determining the most frequently purchased fish in a local market.\n",
        "\n",
        "- a) Mean\n",
        "- b) Median\n",
        "- c) Mode\n",
        "- d) Variance"
      ],
      "metadata": {
        "id": "4LClFV82CAdo"
      },
      "id": "4LClFV82CAdo"
    },
    {
      "cell_type": "code",
      "execution_count": null,
      "metadata": {
        "id": "2RqUEHwBCZde"
      },
      "outputs": [],
      "source": [
        "# 🧪 Place your answer below:"
      ],
      "id": "2RqUEHwBCZde"
    },
    {
      "cell_type": "markdown",
      "source": [
        "3. Analyzing exam scores of students where the distribution is symmetric.\n",
        "\n",
        "- a) Mean\n",
        "- b) Median\n",
        "- c) Mode\n",
        "- d) None of the above"
      ],
      "metadata": {
        "id": "f0ojtiJyCdm-"
      },
      "id": "f0ojtiJyCdm-"
    },
    {
      "cell_type": "code",
      "execution_count": null,
      "metadata": {
        "id": "0e0eyHrKCaQF"
      },
      "outputs": [],
      "source": [
        "# 🧪 Place your answer below:"
      ],
      "id": "0e0eyHrKCaQF"
    },
    {
      "cell_type": "markdown",
      "source": [
        "4. Identifying the typical shoe size worn by students.\n",
        "\n",
        "- a) Mean\n",
        "- b) Median\n",
        "- c) Mode\n",
        "- d) Standard Deviation"
      ],
      "metadata": {
        "id": "bylPeJ0GCjPW"
      },
      "id": "bylPeJ0GCjPW"
    },
    {
      "cell_type": "code",
      "execution_count": null,
      "metadata": {
        "id": "YevdV4b1EESW"
      },
      "outputs": [],
      "source": [
        "# 🧪 Place your answer below:"
      ],
      "id": "YevdV4b1EESW"
    },
    {
      "cell_type": "markdown",
      "source": [
        "### Task 2: Manual Calculation (20 pts)"
      ],
      "metadata": {
        "id": "Fp6PCoVvC50X"
      },
      "id": "Fp6PCoVvC50X"
    },
    {
      "cell_type": "markdown",
      "source": [
        "The ages of 7 students are:\n",
        "\n",
        "18, 19, 20, 20, 22, 23, 30\n",
        "\n",
        "Questions:\n",
        "- a. Find the mean\n",
        "- b. Find the median\n",
        "- c. Find the mode\n",
        "\n",
        "Note: Show manual calculation (if possible)"
      ],
      "metadata": {
        "id": "h3EPSiAtD1SU"
      },
      "id": "h3EPSiAtD1SU"
    },
    {
      "cell_type": "code",
      "execution_count": null,
      "metadata": {
        "id": "UkBOQyzvEEa6"
      },
      "outputs": [],
      "source": [
        "# 🧪 Place your answer below:"
      ],
      "id": "UkBOQyzvEEa6"
    },
    {
      "cell_type": "markdown",
      "source": [
        "### Task 3: Choosing the Right Measure (20 pts)"
      ],
      "metadata": {
        "id": "GIH2fh6CEcSS"
      },
      "id": "GIH2fh6CEcSS"
    },
    {
      "cell_type": "markdown",
      "source": [
        "Question:\n",
        "\n",
        "Suppose you are analyzing household income in a village where a few families earn extremely high salaries. Which measure of central tendency (mean, median, or mode) should you use to represent the “typical” income, and why?"
      ],
      "metadata": {
        "id": "9CTGyxaHEibT"
      },
      "id": "9CTGyxaHEibT"
    },
    {
      "cell_type": "code",
      "execution_count": null,
      "metadata": {
        "id": "WMIWl3PPErFv"
      },
      "outputs": [],
      "source": [
        "# 🧪 Place your answer below:"
      ],
      "id": "WMIWl3PPErFv"
    },
    {
      "cell_type": "markdown",
      "source": [
        "### Task 4: Fish Weight Analysis (20 pts)"
      ],
      "metadata": {
        "id": "NDmbg8vzEu9p"
      },
      "id": "NDmbg8vzEu9p"
    },
    {
      "cell_type": "markdown",
      "source": [
        "You collected fish weights (kg) from a sample:\n",
        "\n",
        "[1.2, 1.5, 1.5, 2.0, 2.8, 3.0, 7.0]\n",
        "\n",
        "- a. Which measure of central tendency best represents the typical fish weight?\n",
        "- b. Justify your choice."
      ],
      "metadata": {
        "id": "_7T8t0-GE3co"
      },
      "id": "_7T8t0-GE3co"
    },
    {
      "cell_type": "code",
      "execution_count": null,
      "metadata": {
        "id": "3C_AUI2ZFmH-"
      },
      "outputs": [],
      "source": [
        "# 🧪 Place your answer below:"
      ],
      "id": "3C_AUI2ZFmH-"
    },
    {
      "cell_type": "markdown",
      "source": [
        "### Task 5: Computing with Python (20 pts)"
      ],
      "metadata": {
        "id": "Pl0oZCeuFHCv"
      },
      "id": "Pl0oZCeuFHCv"
    },
    {
      "cell_type": "markdown",
      "source": [
        "Use Python to calculate the mean, median, and mode for the dataset:\n",
        "\n",
        "[4, 5, 6, 8, 8, 10, 12]\n",
        "\n",
        "Hint: import statistics as stats"
      ],
      "metadata": {
        "id": "_kdJFxzIFZ5l"
      },
      "id": "_kdJFxzIFZ5l"
    },
    {
      "cell_type": "code",
      "execution_count": null,
      "metadata": {
        "id": "3j9QJxGaFnfB"
      },
      "outputs": [],
      "source": [
        "# 🧪 Place your answer below:"
      ],
      "id": "3j9QJxGaFnfB"
    }
  ],
  "metadata": {
    "colab": {
      "provenance": []
    },
    "kernelspec": {
      "display_name": "Python 3",
      "language": "python",
      "name": "python3"
    },
    "language_info": {
      "codemirror_mode": {
        "name": "ipython",
        "version": 3
      },
      "file_extension": ".py",
      "mimetype": "text/x-python",
      "name": "python",
      "nbconvert_exporter": "python",
      "pygments_lexer": "ipython3",
      "version": "3.8.5"
    }
  },
  "nbformat": 4,
  "nbformat_minor": 5
}