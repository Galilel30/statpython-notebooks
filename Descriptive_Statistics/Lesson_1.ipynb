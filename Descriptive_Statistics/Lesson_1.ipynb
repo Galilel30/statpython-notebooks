{
  "cells": [
    {
      "cell_type": "markdown",
      "id": "81a5af52",
      "metadata": {
        "id": "81a5af52"
      },
      "source": [
        "# Lesson 1 — Descriptive Statistics"
      ]
    },
    {
      "cell_type": "markdown",
      "id": "8469f552",
      "metadata": {
        "id": "8469f552"
      },
      "source": [
        "🔹 Assignment 1: What's the Typical Catch?\n",
        "\n",
        "###Objective: Calculate mean, median, and mode from a real-world dataset.\n",
        "\n",
        "Instructions:\n",
        "\n",
        "  * Simulate or input the weights (in grams) of 15 fish caught during a field survey.\n",
        "\n",
        "        weights = [320, 450, 390, 380, 420, 450, 410, 430, 450, 390, 400, 440, 390, 450, 460]\n",
        "\n",
        "  * Calculate:\n",
        "\n",
        "    - Mean\n",
        "    - Median\n",
        "    - Mode\n",
        "\n",
        "  * Print your findings clearly.\n",
        "\n",
        "Challenge:\n",
        "Which measure best describes the \"typical\" fish size in this data — and why?"
      ]
    },
    {
      "cell_type": "code",
      "execution_count": null,
      "id": "1be389d5",
      "metadata": {
        "id": "1be389d5"
      },
      "outputs": [],
      "source": [
        "# 🧪 Practice your Python statistical analysis code below:\n"
      ]
    },
    {
      "cell_type": "markdown",
      "metadata": {
        "id": "rdpG_jGngM1b"
      },
      "source": [
        "🔹 Assignment 2: Compare Central Tendencies of Two Species\n",
        "\n",
        "###Objective: Compare average sizes between two fish species.\n",
        "\n",
        "Instructions:\n",
        "\n",
        "  * Simulate two datasets:\n",
        "\n",
        "        species_a = [120, 130, 125, 140, 135]\n",
        "        species_b = [110, 180, 160, 115, 120]\n",
        "\n",
        "  * Calculate mean and median for each species.\n",
        "  * Comment on the difference in averages and medians.\n",
        "\n",
        "Challenge:\n",
        "Why might the median be more reliable than the mean for species_b?\n",
        "\n"
      ],
      "id": "rdpG_jGngM1b"
    },
    {
      "cell_type": "code",
      "execution_count": null,
      "metadata": {
        "id": "Snk0VUZVgPV8"
      },
      "outputs": [],
      "source": [
        "# 🧪 Practice your Python statistical analysis code below:\n"
      ],
      "id": "Snk0VUZVgPV8"
    }
  ],
  "metadata": {
    "colab": {
      "provenance": []
    }
  },
  "nbformat": 4,
  "nbformat_minor": 5
}