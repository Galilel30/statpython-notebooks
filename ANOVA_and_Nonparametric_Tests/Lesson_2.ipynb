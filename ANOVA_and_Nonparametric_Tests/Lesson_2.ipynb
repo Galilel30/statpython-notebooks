{
 "cells": [
  {
   "cell_type": "markdown",
   "id": "4bf4ed91",
   "metadata": {},
   "source": [
    "# Lesson 2 — ANOVA and Nonparametric Tests"
   ]
  },
  {
   "cell_type": "markdown",
   "id": "f4b1202d",
   "metadata": {},
   "source": [
    "Non-Parametric Tests: Mann–Whitney U, Wilcoxon, and Kruskal–Wallis tests."
   ]
  },
  {
   "cell_type": "code",
   "execution_count": null,
   "id": "edcad167",
   "metadata": {},
   "outputs": [],
   "source": [
    "# 🧪 Practice your Python statistical analysis code below:\n"
   ]
  }
 ],
 "metadata": {},
 "nbformat": 4,
 "nbformat_minor": 5
}
