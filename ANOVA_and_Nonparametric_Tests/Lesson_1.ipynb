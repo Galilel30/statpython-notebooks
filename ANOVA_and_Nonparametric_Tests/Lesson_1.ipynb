{
 "cells": [
  {
   "cell_type": "markdown",
   "id": "25d03644",
   "metadata": {},
   "source": [
    "# Lesson 1 — ANOVA and Nonparametric Tests"
   ]
  },
  {
   "cell_type": "markdown",
   "id": "264bef3e",
   "metadata": {},
   "source": [
    "One-Way ANOVA: Comparing group means using ANOVA and F-tests."
   ]
  },
  {
   "cell_type": "code",
   "execution_count": null,
   "id": "eaa8ca7f",
   "metadata": {},
   "outputs": [],
   "source": [
    "# 🧪 Practice your Python statistical analysis code below:\n"
   ]
  }
 ],
 "metadata": {},
 "nbformat": 4,
 "nbformat_minor": 5
}
