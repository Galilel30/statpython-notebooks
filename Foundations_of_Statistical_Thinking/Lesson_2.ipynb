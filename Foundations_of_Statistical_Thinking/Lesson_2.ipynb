{
  "cells": [
    {
      "cell_type": "markdown",
      "id": "c937241f",
      "metadata": {
        "id": "c937241f"
      },
      "source": [
        "[![Open In Colab](https://colab.research.google.com/assets/colab-badge.svg)](https://colab.research.google.com/github/Galilel30/statpython-notebooks/blob/main/Foundations_of_Statistical_Thinking/Lesson_2.ipynb?copy_to_drive=true)"
      ]
    },
    {
      "cell_type": "markdown",
      "id": "f1df9ec5",
      "metadata": {
        "id": "f1df9ec5"
      },
      "source": [
        "# Assignment 2 - The Role of Variation in Data\n",
        "\n",
        "**Module:** Foundations of Statistical Thinking"
      ]
    },
    {
      "cell_type": "markdown",
      "id": "8067f25f",
      "metadata": {
        "id": "8067f25f"
      },
      "source": [
        "## Practice Exercise (100 points)\n",
        "Now it's time to practice what you've learned!\n",
        "\n",
        "Instructions:\n",
        "\n",
        "Go to the file tab and click \"Save a copy in drive\" Read the problem carefully Write your code in the cell below Test your solution Experiment with different approaches"
      ]
    },
    {
      "cell_type": "markdown",
      "source": [
        "Write your:\n",
        "\n",
        "- Full Name\n",
        "- Date"
      ],
      "metadata": {
        "id": "bXQGbautQKte"
      },
      "id": "bXQGbautQKte"
    },
    {
      "cell_type": "code",
      "execution_count": null,
      "id": "fe3db3df",
      "metadata": {
        "id": "fe3db3df"
      },
      "outputs": [],
      "source": [
        "Full Name:\n",
        "Date:"
      ]
    },
    {
      "cell_type": "markdown",
      "source": [
        "### Task 1: Understanding Variation (20 points)"
      ],
      "metadata": {
        "id": "3hqTJ417QSnf"
      },
      "id": "3hqTJ417QSnf"
    },
    {
      "cell_type": "markdown",
      "source": [
        "1. In your own words, explain why variation is fundamental to statistics. (10 pts)"
      ],
      "metadata": {
        "id": "-JK2Dq2VShN9"
      },
      "id": "-JK2Dq2VShN9"
    },
    {
      "cell_type": "code",
      "source": [
        "# 🧪 Place your answer below:"
      ],
      "metadata": {
        "id": "DPbj6457SnI3"
      },
      "id": "DPbj6457SnI3",
      "execution_count": null,
      "outputs": []
    },
    {
      "cell_type": "markdown",
      "source": [
        "2. Which of the following best describes the role of variation? Explain your chosen answer. (10 pts)\n",
        "- A. Variation shows the exact answer to a problem.\n",
        "- B. Variation is random noise that should be ignored.\n",
        "- C. Variation is the differences in data values that must be studied to make sense of the world.\n",
        "- D. Variation eliminates the need for statistical analysis."
      ],
      "metadata": {
        "id": "rZgABx2vSljB"
      },
      "id": "rZgABx2vSljB"
    },
    {
      "cell_type": "code",
      "source": [
        "# 🧪 Place your answer below:"
      ],
      "metadata": {
        "id": "uwPJKhDeSqri"
      },
      "execution_count": null,
      "outputs": [],
      "id": "uwPJKhDeSqri"
    },
    {
      "cell_type": "markdown",
      "source": [
        "### Task 2 – Sources of Variation (25 points)"
      ],
      "metadata": {
        "id": "OyQ1Bkw1S_bX"
      },
      "id": "OyQ1Bkw1S_bX"
    },
    {
      "cell_type": "markdown",
      "source": [
        "1. Identify three sources of variation in students’ exam scores and briefly explain each. (10 pts)"
      ],
      "metadata": {
        "id": "55Xvp7flTDrN"
      },
      "id": "55Xvp7flTDrN"
    },
    {
      "cell_type": "code",
      "source": [
        "# 🧪 Place your answer below:"
      ],
      "metadata": {
        "id": "ByA0zq7ESq-Y"
      },
      "execution_count": null,
      "outputs": [],
      "id": "ByA0zq7ESq-Y"
    },
    {
      "cell_type": "markdown",
      "source": [
        "2. Scenario: You measure the weight of fish caught in a lake. List and explain two natural variation sources and two systematic sources that could affect your data. (15 pts)"
      ],
      "metadata": {
        "id": "_BBjFpixTznS"
      },
      "id": "_BBjFpixTznS"
    },
    {
      "cell_type": "code",
      "source": [
        "# 🧪 Place your answer below:"
      ],
      "metadata": {
        "id": "5TwHQoC2SrD7"
      },
      "execution_count": null,
      "outputs": [],
      "id": "5TwHQoC2SrD7"
    },
    {
      "cell_type": "markdown",
      "source": [
        "### Task 3 – Distinguishing Variation Types (25 points)"
      ],
      "metadata": {
        "id": "_G45F3vCT6Pg"
      },
      "id": "_G45F3vCT6Pg"
    },
    {
      "cell_type": "markdown",
      "source": [
        "1. Decide if each situation reflects natural variation or systematic difference (10 pts):\n",
        "\n",
        "- Different growth rates of plants under identical conditions.\n",
        "\n",
        "- One thermometer always showing 2°C higher than actual.\n",
        "\n",
        "- Student test scores varying because of different levels of understanding.\n",
        "\n",
        "- A weighing machine that always underestimates by 0.5 kg."
      ],
      "metadata": {
        "id": "cmdPmjC4UAPH"
      },
      "id": "cmdPmjC4UAPH"
    },
    {
      "cell_type": "code",
      "source": [
        "# 🧪 Place your answer below:"
      ],
      "metadata": {
        "id": "RV-JSRSFSrH9"
      },
      "execution_count": null,
      "outputs": [],
      "id": "RV-JSRSFSrH9"
    },
    {
      "cell_type": "markdown",
      "source": [
        "2. Short Essay (5–7 sentences): Why is it important to distinguish between natural variation and systematic differences in research? (15 pts)"
      ],
      "metadata": {
        "id": "mpxU-xJYUKtM"
      },
      "id": "mpxU-xJYUKtM"
    },
    {
      "cell_type": "code",
      "source": [
        "# 🧪 Place your answer below:"
      ],
      "metadata": {
        "id": "feHoc1eGSrMM"
      },
      "execution_count": null,
      "outputs": [],
      "id": "feHoc1eGSrMM"
    },
    {
      "cell_type": "markdown",
      "source": [
        "### Task 4 – Applying Variation Concepts (30 points)"
      ],
      "metadata": {
        "id": "uPeqyJJfUTGO"
      },
      "id": "uPeqyJJfUTGO"
    },
    {
      "cell_type": "markdown",
      "source": [
        "1. Everyday Application: You notice that your commute time to school varies daily. Give two possible natural sources and one possible systematic source of this variation. (10 pts)"
      ],
      "metadata": {
        "id": "UrMaTrDWUWqD"
      },
      "id": "UrMaTrDWUWqD"
    },
    {
      "cell_type": "code",
      "source": [
        "# 🧪 Place your answer below:"
      ],
      "metadata": {
        "id": "GktpPzP6UR12"
      },
      "execution_count": null,
      "outputs": [],
      "id": "GktpPzP6UR12"
    },
    {
      "cell_type": "markdown",
      "source": [
        "2. A researcher tests a new fertilizer on plants. Group A gets fertilizer, Group B does not. After a month, Group A plants are taller. Explain how variation plays a role in interpreting results. (10 pts)"
      ],
      "metadata": {
        "id": "oDsfnCrDUdQ_"
      },
      "id": "oDsfnCrDUdQ_"
    },
    {
      "cell_type": "code",
      "source": [
        "# 🧪 Place your answer below:"
      ],
      "metadata": {
        "id": "kha5fMZOUSDP"
      },
      "execution_count": null,
      "outputs": [],
      "id": "kha5fMZOUSDP"
    },
    {
      "cell_type": "markdown",
      "source": [
        "3. Reflection: Think about fisheries (or your field). Give one example where understanding variation is crucial for decision-making. (10 pts)"
      ],
      "metadata": {
        "id": "N2hwWBYCUkkt"
      },
      "id": "N2hwWBYCUkkt"
    },
    {
      "cell_type": "code",
      "source": [
        "# 🧪 Place your answer below:"
      ],
      "metadata": {
        "id": "oq-kOS4DUSJb"
      },
      "execution_count": null,
      "outputs": [],
      "id": "oq-kOS4DUSJb"
    }
  ],
  "metadata": {
    "colab": {
      "provenance": []
    },
    "kernelspec": {
      "display_name": "Python 3",
      "language": "python",
      "name": "python3"
    },
    "language_info": {
      "codemirror_mode": {
        "name": "ipython",
        "version": 3
      },
      "file_extension": ".py",
      "mimetype": "text/x-python",
      "name": "python",
      "nbconvert_exporter": "python",
      "pygments_lexer": "ipython3",
      "version": "3.8.5"
    }
  },
  "nbformat": 4,
  "nbformat_minor": 5
}