{
 "cells": [
  {
   "cell_type": "markdown",
   "id": "8ec66920",
   "metadata": {},
   "source": [
    "# Lesson 2 — Foundations of Statistical Thinking"
   ]
  },
  {
   "cell_type": "markdown",
   "id": "903aa73c",
   "metadata": {},
   "source": [
    "Organizing and Visualizing Data: Frequency tables, charts, and visualizing distributions using Python."
   ]
  },
  {
   "cell_type": "code",
   "execution_count": null,
   "id": "7fdb46a7",
   "metadata": {},
   "outputs": [],
   "source": [
    "# 🧪 Practice your Python statistical analysis code below:\n"
   ]
  }
 ],
 "metadata": {},
 "nbformat": 4,
 "nbformat_minor": 5
}
