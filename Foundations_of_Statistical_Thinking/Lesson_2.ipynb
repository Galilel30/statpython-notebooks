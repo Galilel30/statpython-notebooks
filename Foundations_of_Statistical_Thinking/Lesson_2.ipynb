{
  "cells": [
    {
      "cell_type": "markdown",
      "id": "8ec66920",
      "metadata": {
        "id": "8ec66920"
      },
      "source": [
        "# Lesson 2 — Foundations of Statistical Thinking"
      ]
    },
    {
      "cell_type": "markdown",
      "id": "903aa73c",
      "metadata": {
        "id": "903aa73c"
      },
      "source": [
        "🔹 Assignment 1: Create a Frequency Table from Survey Data\n",
        "\n",
        "###Objective: Organize data using a frequency table.\n",
        "\n",
        "Instructions:\n",
        "\n",
        "  * Simulate survey data of 50 people answering:\n",
        "    “What is your preferred fish species for consumption?”\n",
        "\n",
        "        Possible answers: Tilapia, Bangus, Tuna, Galunggong\n",
        "\n",
        "  * Store the responses in a list, e.g.,\n",
        "        responses = [\"Tuna\", \"Bangus\", \"Tuna\", \"Tilapia\", ...]\n",
        "\n",
        "  * Count the frequency of each response using a dictionary or Counter.\n",
        "\n",
        "  * Print a table like:\n",
        "        Species     Frequency\n",
        "        ---------------------\n",
        "        Tuna        15\n",
        "        Bangus      13\n",
        "        Tilapia     12\n",
        "        Galunggong  10\n",
        "\n",
        "Challenge:\n",
        "Why is frequency important in understanding population behavior?"
      ]
    },
    {
      "cell_type": "code",
      "execution_count": null,
      "id": "7fdb46a7",
      "metadata": {
        "id": "7fdb46a7"
      },
      "outputs": [],
      "source": [
        "# 🧪 Practice your Python statistical analysis code below:\n"
      ]
    },
    {
      "cell_type": "markdown",
      "metadata": {
        "id": "6n8JbnJFeCJn"
      },
      "source": [
        "🔹 Assignment 2: Plot the Distribution — Visualize Your Data\n",
        "\n",
        "###Objective: Generate bar charts and pie charts from categorical data.\n",
        "\n",
        "Instructions:\n",
        "\n",
        "  * Use the frequency data from Assignment 1.\n",
        "  * Create:\n",
        "      - A bar chart showing frequency per species\n",
        "      - A pie chart showing proportionate preference\n",
        "\n",
        "  * Use matplotlib or pandas to generate the visuals.\n",
        "\n",
        "###Expected Output:\n",
        "*Bar chart and pie chart clearly labeling each category.*\n",
        "\n",
        "Challenge:\n",
        "How would your interpretation change if you only saw the pie chart without frequencies?"
      ],
      "id": "6n8JbnJFeCJn"
    },
    {
      "cell_type": "code",
      "execution_count": null,
      "metadata": {
        "id": "6lWOIi5EeGBy"
      },
      "outputs": [],
      "source": [
        "# 🧪 Practice your Python statistical analysis code below:\n"
      ],
      "id": "6lWOIi5EeGBy"
    }
  ],
  "metadata": {
    "colab": {
      "provenance": []
    }
  },
  "nbformat": 4,
  "nbformat_minor": 5
}