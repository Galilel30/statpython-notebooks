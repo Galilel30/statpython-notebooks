{
  "cells": [
    {
      "cell_type": "markdown",
      "id": "93146f78",
      "metadata": {
        "id": "93146f78"
      },
      "source": [
        "[![Open In Colab](https://colab.research.google.com/assets/colab-badge.svg)](https://colab.research.google.com/github/Galilel30/statpython-notebooks/blob/main/Foundations_of_Statistical_Thinking/Lesson_1.ipynb?copy_to_drive=true)"
      ]
    },
    {
      "cell_type": "markdown",
      "id": "b47ab8c2",
      "metadata": {
        "id": "b47ab8c2"
      },
      "source": [
        "# Lesson 1\n",
        "\n",
        "**Module:** Foundations of Statistical Thinking"
      ]
    },
    {
      "cell_type": "markdown",
      "id": "26ec9a23",
      "metadata": {
        "id": "26ec9a23"
      },
      "source": [
        "## Practice Exercise (100 points)\n",
        "\n",
        "Now it's time to practice what you've learned!\n",
        "\n",
        "Instructions:\n",
        "\n",
        "Go to the file tab and click \"Save a copy in drive\"\n",
        "Read the problem carefully\n",
        "Write your code in the cell below\n",
        "Test your solution\n",
        "Experiment with different approaches"
      ]
    },
    {
      "cell_type": "markdown",
      "id": "55acaa7a",
      "metadata": {
        "id": "55acaa7a"
      },
      "source": [
        "Write your:\n",
        "\n",
        "- Full Name\n",
        "- Date"
      ]
    },
    {
      "cell_type": "code",
      "source": [
        "Full Name:\n",
        "Date:"
      ],
      "metadata": {
        "id": "a886-57roe5C"
      },
      "id": "a886-57roe5C",
      "execution_count": null,
      "outputs": []
    },
    {
      "cell_type": "markdown",
      "source": [
        "### Task 1: Knowledge & Understanding (30 points)"
      ],
      "metadata": {
        "id": "1vbUMwIxoyT-"
      },
      "id": "1vbUMwIxoyT-"
    },
    {
      "cell_type": "markdown",
      "source": [
        "1. Define statistical thinking in your own words. (5 pts)"
      ],
      "metadata": {
        "id": "egGiw9vHpBvt"
      },
      "id": "egGiw9vHpBvt"
    },
    {
      "cell_type": "code",
      "execution_count": null,
      "id": "d72e71c0",
      "metadata": {
        "id": "d72e71c0"
      },
      "outputs": [],
      "source": [
        "# 🧪 Place your answer below:"
      ]
    },
    {
      "cell_type": "markdown",
      "source": [
        "2. List three key components of statistical thinking. (5 pts)"
      ],
      "metadata": {
        "id": "M3inJuGspgyq"
      },
      "id": "M3inJuGspgyq"
    },
    {
      "cell_type": "code",
      "execution_count": null,
      "metadata": {
        "id": "liUo37tzpdPO"
      },
      "outputs": [],
      "source": [
        "# 🧪 Place your answer below:"
      ],
      "id": "liUo37tzpdPO"
    },
    {
      "cell_type": "markdown",
      "source": [
        "3. Which statement best describes statistical thinking? Provide explanation to your chosen option (5 pts)\n",
        "\n",
        "- A. Memorizing mathematical formulas.\n",
        "- B. Applying logic to reduce variation in data.\n",
        "- C. Using data, variation, and context to draw conclusions.\n",
        "- D. Solving equations with precise answers."
      ],
      "metadata": {
        "id": "6ebHvW02pl4_"
      },
      "id": "6ebHvW02pl4_"
    },
    {
      "cell_type": "code",
      "execution_count": null,
      "metadata": {
        "id": "FJT_iXj3pdfk"
      },
      "outputs": [],
      "source": [
        "# 🧪 Place your answer below:"
      ],
      "id": "FJT_iXj3pdfk"
    },
    {
      "cell_type": "markdown",
      "source": [
        "4. Why is context important in statistical reasoning? (5 pts)"
      ],
      "metadata": {
        "id": "dYPYTFLXqFSl"
      },
      "id": "dYPYTFLXqFSl"
    },
    {
      "cell_type": "code",
      "execution_count": null,
      "metadata": {
        "id": "J3eeNG0Jpdog"
      },
      "outputs": [],
      "source": [
        "# 🧪 Place your answer below:"
      ],
      "id": "J3eeNG0Jpdog"
    },
    {
      "cell_type": "markdown",
      "source": [
        "5. Distinguish between statistical thinking and mathematical calculation with one example. (10 pts)"
      ],
      "metadata": {
        "id": "lbXZD7soqJ2d"
      },
      "id": "lbXZD7soqJ2d"
    },
    {
      "cell_type": "code",
      "execution_count": null,
      "metadata": {
        "id": "RxkvhsTxpd8l"
      },
      "outputs": [],
      "source": [
        "# 🧪 Place your answer below:"
      ],
      "id": "RxkvhsTxpd8l"
    },
    {
      "cell_type": "markdown",
      "source": [
        "### Task 2: Application & Problem Solving (40 points)"
      ],
      "metadata": {
        "id": "TLJ2b6Prqh2X"
      },
      "id": "TLJ2b6Prqh2X"
    },
    {
      "cell_type": "markdown",
      "source": [
        "1. Everyday Decision-Making: You want to decide whether to bring an umbrella tomorrow. How can statistical thinking help? (10 pts)"
      ],
      "metadata": {
        "id": "LpVR6xjyqk21"
      },
      "id": "LpVR6xjyqk21"
    },
    {
      "cell_type": "code",
      "execution_count": null,
      "metadata": {
        "id": "X4JnSPcTquC_"
      },
      "outputs": [],
      "source": [
        "# 🧪 Place your answer below:"
      ],
      "id": "X4JnSPcTquC_"
    },
    {
      "cell_type": "markdown",
      "source": [
        "2. Give an example of statistical reasoning in the field of fisheries. (10 pts)"
      ],
      "metadata": {
        "id": "mQCH2dwFMZJm"
      },
      "id": "mQCH2dwFMZJm"
    },
    {
      "cell_type": "code",
      "execution_count": null,
      "metadata": {
        "id": "XFqkdQLuquhv"
      },
      "outputs": [],
      "source": [
        "# 🧪 Place your answer below:"
      ],
      "id": "XFqkdQLuquhv"
    },
    {
      "cell_type": "markdown",
      "source": [
        "3. Scenario: A company claims their product works “90% of the time.” As a statistician, what would you question before believing the claim? (10 pts)"
      ],
      "metadata": {
        "id": "vOLUS0NUMeSs"
      },
      "id": "vOLUS0NUMeSs"
    },
    {
      "cell_type": "code",
      "execution_count": null,
      "metadata": {
        "id": "dD7OQnHdqupv"
      },
      "outputs": [],
      "source": [
        "# 🧪 Place your answer below:"
      ],
      "id": "dD7OQnHdqupv"
    },
    {
      "cell_type": "markdown",
      "source": [
        "4. Short Essay (5–7 sentences): Compare how a mathematician and a statistical thinker would approach analyzing exam results of a class. (10 pts)"
      ],
      "metadata": {
        "id": "-IbGIwxLM1UG"
      },
      "id": "-IbGIwxLM1UG"
    },
    {
      "cell_type": "code",
      "execution_count": null,
      "metadata": {
        "id": "OIA3PNPxquwC"
      },
      "outputs": [],
      "source": [
        "# 🧪 Place your answer below:"
      ],
      "id": "OIA3PNPxquwC"
    },
    {
      "cell_type": "markdown",
      "source": [
        "### Task 3: Reflection (30 points)"
      ],
      "metadata": {
        "id": "wtohJaYUM7Lo"
      },
      "id": "wtohJaYUM7Lo"
    },
    {
      "cell_type": "markdown",
      "source": [
        "1. Reflection: Think about your daily life. Describe two situations where you already apply statistical thinking, even unconsciously. Explain why each is an example of statistical thinking. (15 pts)"
      ],
      "metadata": {
        "id": "nz5NevlAM_pT"
      },
      "id": "nz5NevlAM_pT"
    },
    {
      "cell_type": "code",
      "execution_count": null,
      "metadata": {
        "id": "7-fitk_WNGuO"
      },
      "outputs": [],
      "source": [
        "# 🧪 Place your answer below:"
      ],
      "id": "7-fitk_WNGuO"
    },
    {
      "cell_type": "markdown",
      "source": [
        "2. Critical Thinking: News headlines often report statistics like “Eating fruit daily reduces disease risk by 30%.” As a student of statistical thinking, explain why you should be cautious before fully believing this claim. (15 pts)"
      ],
      "metadata": {
        "id": "ZCL8vRHPNHmJ"
      },
      "id": "ZCL8vRHPNHmJ"
    },
    {
      "cell_type": "code",
      "execution_count": null,
      "metadata": {
        "id": "MkWfKdrRNHDY"
      },
      "outputs": [],
      "source": [
        "# 🧪 Place your answer below:"
      ],
      "id": "MkWfKdrRNHDY"
    }
  ],
  "metadata": {
    "colab": {
      "provenance": []
    },
    "kernelspec": {
      "display_name": "Python 3",
      "language": "python",
      "name": "python3"
    },
    "language_info": {
      "codemirror_mode": {
        "name": "ipython",
        "version": 3
      },
      "file_extension": ".py",
      "mimetype": "text/x-python",
      "name": "python",
      "nbconvert_exporter": "python",
      "pygments_lexer": "ipython3",
      "version": "3.8.5"
    }
  },
  "nbformat": 4,
  "nbformat_minor": 5
}