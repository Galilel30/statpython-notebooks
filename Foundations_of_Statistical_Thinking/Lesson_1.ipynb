{
  "cells": [
    {
      "cell_type": "markdown",
      "id": "a164f659",
      "metadata": {
        "id": "a164f659"
      },
      "source": [
        "# Lesson 1 — Foundations of Statistical Thinking"
      ]
    },
    {
      "cell_type": "markdown",
      "id": "69655fd6",
      "metadata": {
        "id": "69655fd6"
      },
      "source": [
        "🔹 Assignment 1: Data Detective — Classify the Variables\n",
        "\n",
        "###Objective: Differentiate types of data and measurement scales.\n",
        "\n",
        "Instructions:\n",
        "\n",
        "  * Below is a sample list of variables observed in a fisheries survey:\n",
        "\n",
        "    - Fish species\n",
        "    - Weight of each fish (in grams)\n",
        "    - Habitat type (reef, mangrove, estuary)\n",
        "    - Water temperature (°C)\n",
        "    - Fish health condition (good, moderate, poor)\n",
        "\n",
        "  * Create a table in Python (dictionary or DataFrame) with two columns:\n",
        "\n",
        "    - Variable\n",
        "    - Type (Qualitative/Quantitative)\n",
        "    - Measurement Scale (Nominal, Ordinal, Interval, Ratio)\n",
        "\n",
        "  * Print your classification clearly.\n",
        "\n",
        "Challenge:\n",
        "Which of these variables could be used for meaningful statistical computation (mean, mode, etc.)?"
      ]
    },
    {
      "cell_type": "code",
      "execution_count": null,
      "id": "0ad9c795",
      "metadata": {
        "id": "0ad9c795"
      },
      "outputs": [],
      "source": [
        "# 🧪 Practice your Python code below:\n"
      ]
    },
    {
      "cell_type": "markdown",
      "metadata": {
        "id": "5WZovMLKa0Ot"
      },
      "source": [
        "🔹 Assignment 2: Sampling Methods Simulation\n",
        "\n",
        "###Objective: Simulate different sampling methods and observe potential bias.\n",
        "\n",
        "Instructions:\n",
        "\n",
        "  * Simulate a population of 100 fish tagged with unique IDs from 1 to 100 (use range()).\n",
        "\n",
        "  * Create three functions:\n",
        "\n",
        "    - simple_random_sample() – pick 10 random fish IDs.\n",
        "    - systematic_sample() – pick every 10th fish.\n",
        "    - convenience_sample() – pick the first 10 fish.\n",
        "\n",
        "  * Compare and print the samples.\n",
        "  * Discuss: Which method is most fair? Which is likely biased?\n",
        "\n",
        "Challenge:\n",
        "How might your choice of sampling method impact the conclusions of a fisheries study?"
      ],
      "id": "5WZovMLKa0Ot"
    },
    {
      "cell_type": "code",
      "execution_count": null,
      "metadata": {
        "id": "2ng75RUIa58G"
      },
      "outputs": [],
      "source": [
        "# 🧪 Practice your Python statistical analysis code below:\n"
      ],
      "id": "2ng75RUIa58G"
    }
  ],
  "metadata": {
    "colab": {
      "provenance": []
    }
  },
  "nbformat": 4,
  "nbformat_minor": 5
}