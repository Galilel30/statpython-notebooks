{
 "cells": [
  {
   "cell_type": "markdown",
   "id": "13b00f4f",
   "metadata": {},
   "source": [
    "[![Open In Colab](https://colab.research.google.com/assets/colab-badge.svg)](https://colab.research.google.com/github/Galilel30/statpython-notebooks/blob/main/Foundations_of_Statistical_Thinking/Lesson_5.ipynb?copy_to_drive=true)"
   ]
  },
  {
   "cell_type": "markdown",
   "id": "e41fec59",
   "metadata": {},
   "source": [
    "# Lesson 5\n",
    "\n",
    "**Module:** Foundations of Statistical Thinking"
   ]
  },
  {
   "cell_type": "markdown",
   "id": "5bc9f74d",
   "metadata": {},
   "source": [
    "## Learning Objectives\n",
    "\n",
    "Introduction to Study Design: Different types of studies and their strengths and limitations.\n",
    "\n",
    "By the end of this lesson, you will be able to:\n",
    "- Understand the core concepts\n",
    "- Apply practical examples\n",
    "- Complete hands-on exercises"
   ]
  },
  {
   "cell_type": "markdown",
   "id": "8a2e83b3",
   "metadata": {},
   "source": [
    "## Setup\n",
    "\n",
    "Let's start by importing the necessary libraries."
   ]
  },
  {
   "cell_type": "code",
   "execution_count": null,
   "id": "b9687442",
   "metadata": {},
   "outputs": [],
   "source": [
    "# Import necessary libraries\n",
    "import numpy as np\n",
    "import pandas as pd\n",
    "import matplotlib.pyplot as plt\n",
    "import seaborn as sns\n",
    "\n",
    "# Set plotting style\n",
    "plt.style.use('default')\n",
    "sns.set_palette('viridis')\n",
    "\n",
    "print('Libraries imported successfully!')"
   ]
  },
  {
   "cell_type": "markdown",
   "id": "31c3974d",
   "metadata": {},
   "source": [
    "## Lesson Content\n",
    "\n",
    "*Add your lesson content here*"
   ]
  },
  {
   "cell_type": "markdown",
   "id": "7f5b09b1",
   "metadata": {},
   "source": [
    "## Practice Exercise\n",
    "\n",
    "Now it's time to practice what you've learned!\n",
    "\n",
    "**Instructions:**\n",
    "1. Read the problem carefully\n",
    "2. Write your code in the cell below\n",
    "3. Test your solution\n",
    "4. Experiment with different approaches"
   ]
  },
  {
   "cell_type": "code",
   "execution_count": null,
   "id": "6e2d2aa2",
   "metadata": {},
   "outputs": [],
   "source": [
    "# 🧪 Practice your Python statistical analysis code below:\n",
    "\n"
   ]
  }
 ],
 "metadata": {
  "colab": {
   "collapsed_sections": [],
   "provenance": []
  },
  "kernelspec": {
   "display_name": "Python 3",
   "language": "python",
   "name": "python3"
  },
  "language_info": {
   "codemirror_mode": {
    "name": "ipython",
    "version": 3
   },
   "file_extension": ".py",
   "mimetype": "text/x-python",
   "name": "python",
   "nbconvert_exporter": "python",
   "pygments_lexer": "ipython3",
   "version": "3.8.5"
  }
 },
 "nbformat": 4,
 "nbformat_minor": 5
}
