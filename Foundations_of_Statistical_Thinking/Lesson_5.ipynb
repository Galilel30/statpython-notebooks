{
  "cells": [
    {
      "cell_type": "markdown",
      "id": "13b00f4f",
      "metadata": {
        "id": "13b00f4f"
      },
      "source": [
        "[![Open In Colab](https://colab.research.google.com/assets/colab-badge.svg)](https://colab.research.google.com/github/Galilel30/statpython-notebooks/blob/main/Foundations_of_Statistical_Thinking/Lesson_5.ipynb?copy_to_drive=true)"
      ]
    },
    {
      "cell_type": "markdown",
      "id": "e41fec59",
      "metadata": {
        "id": "e41fec59"
      },
      "source": [
        "# Assignment 5 - Introduction to Study Design\n",
        "\n",
        "**Module:** Foundations of Statistical Thinking"
      ]
    },
    {
      "cell_type": "markdown",
      "metadata": {
        "id": "dad630f6"
      },
      "source": [
        "## Practice Exercise (100 points)\n",
        "\n",
        "Now it's time to practice what you've learned!\n",
        "\n",
        "Instructions:\n",
        "\n",
        "- Go to the file tab and click \"Save a copy in drive\"\n",
        "- Read the problem carefully\n",
        "- Write your code in the cell below\n",
        "- Test your solution\n",
        "- Experiment with different approaches"
      ],
      "id": "dad630f6"
    },
    {
      "cell_type": "markdown",
      "source": [
        "Write your:\n",
        "\n",
        "- Full Name\n",
        "- Date"
      ],
      "metadata": {
        "id": "LteT-SWmWE76"
      },
      "id": "LteT-SWmWE76"
    },
    {
      "cell_type": "code",
      "execution_count": null,
      "metadata": {
        "id": "fe3db3df"
      },
      "outputs": [],
      "source": [
        "Full Name:\n",
        "Date:"
      ],
      "id": "fe3db3df"
    },
    {
      "cell_type": "markdown",
      "source": [
        "### Task 1 – Observational vs. Experimental Studies (20 points)"
      ],
      "metadata": {
        "id": "Qop49zXlp_P6"
      },
      "id": "Qop49zXlp_P6"
    },
    {
      "cell_type": "markdown",
      "source": [
        "1. Which situation best represents an observational study? Explain your chosen answer. (10 pts)\n",
        "- A. A scientist gives one group of plants fertilizer and leaves another group without.\n",
        "- B. A doctor records the smoking habits and lung health of patients without intervening.\n",
        "- C. A teacher randomly assigns students to use either flashcards or notes to study.\n",
        "- D. A chemist changes the temperature of solutions to test reaction speed."
      ],
      "metadata": {
        "id": "KIjnqSvqqFKC"
      },
      "id": "KIjnqSvqqFKC"
    },
    {
      "cell_type": "code",
      "source": [
        "# 🧪 Place your answer below:"
      ],
      "metadata": {
        "id": "DPbj6457SnI3"
      },
      "execution_count": null,
      "outputs": [],
      "id": "DPbj6457SnI3"
    },
    {
      "cell_type": "markdown",
      "source": [
        "2. Short Answer: In your own words, explain the difference between observational and experimental studies. (10 pts)"
      ],
      "metadata": {
        "id": "KT2oUA1eti54"
      },
      "id": "KT2oUA1eti54"
    },
    {
      "cell_type": "code",
      "source": [
        "# 🧪 Place your answer below:"
      ],
      "metadata": {
        "id": "6Cqdzj9Ctg4F"
      },
      "execution_count": null,
      "outputs": [],
      "id": "6Cqdzj9Ctg4F"
    },
    {
      "cell_type": "markdown",
      "source": [
        "### Task 2 – Types of Study Designs (20 points)"
      ],
      "metadata": {
        "id": "qLB-2Ez9tp7W"
      },
      "id": "qLB-2Ez9tp7W"
    },
    {
      "cell_type": "markdown",
      "source": [
        "1. Match the study type to its description: (10 pts)\n",
        "\n",
        "  1. Cross-sectional\n",
        "  2. Longitudinal\n",
        "  3. Case-control\n",
        "  4. Randomized controlled trial (RCT)\n",
        "\n",
        "  - a. Follows the same individuals over time.\n",
        "  - b. Compares people with a condition to those without.\n",
        "  - c. Randomly assigns participants to treatment and control groups.\n",
        "  - d. Collects data at a single point in time."
      ],
      "metadata": {
        "id": "NVU4RRjgttpG"
      },
      "id": "NVU4RRjgttpG"
    },
    {
      "cell_type": "code",
      "source": [
        "# 🧪 Place your answer below:"
      ],
      "metadata": {
        "id": "anuL7WeTthGb"
      },
      "execution_count": null,
      "outputs": [],
      "id": "anuL7WeTthGb"
    },
    {
      "cell_type": "markdown",
      "source": [
        "2. Give one strength and one limitation of longitudinal studies. (10 pts)"
      ],
      "metadata": {
        "id": "lo4_RGVMt8Hp"
      },
      "id": "lo4_RGVMt8Hp"
    },
    {
      "cell_type": "code",
      "source": [
        "# 🧪 Place your answer below:"
      ],
      "metadata": {
        "id": "9vT277EcthMC"
      },
      "execution_count": null,
      "outputs": [],
      "id": "9vT277EcthMC"
    },
    {
      "cell_type": "markdown",
      "source": [
        "### Task 3 – Confounding Variables (20 points)"
      ],
      "metadata": {
        "id": "6yCanz8PuBx3"
      },
      "id": "6yCanz8PuBx3"
    },
    {
      "cell_type": "markdown",
      "source": [
        "1. Define a confounding variable and give an example. (10 pts)"
      ],
      "metadata": {
        "id": "TwnplMBHuFVN"
      },
      "id": "TwnplMBHuFVN"
    },
    {
      "cell_type": "code",
      "source": [
        "# 🧪 Place your answer below:"
      ],
      "metadata": {
        "id": "c2gnmarothSU"
      },
      "execution_count": null,
      "outputs": [],
      "id": "c2gnmarothSU"
    },
    {
      "cell_type": "markdown",
      "source": [
        "2. Scenario: A study finds that students who drink more coffee have higher test scores. Suggest one possible confounding variable and explain. (10 pts)"
      ],
      "metadata": {
        "id": "8c7xwrwzuQu4"
      },
      "id": "8c7xwrwzuQu4"
    },
    {
      "cell_type": "code",
      "source": [
        "# 🧪 Place your answer below:"
      ],
      "metadata": {
        "id": "z5ybzIM5thYt"
      },
      "execution_count": null,
      "outputs": [],
      "id": "z5ybzIM5thYt"
    },
    {
      "cell_type": "markdown",
      "source": [
        "### Task 4 – Evaluating Study Strength (20 points)"
      ],
      "metadata": {
        "id": "25PM6bLjuWz7"
      },
      "id": "25PM6bLjuWz7"
    },
    {
      "cell_type": "markdown",
      "source": [
        "1. Rank the following study designs from weakest to strongest in terms of drawing causal conclusions: (10 pts)\n",
        "\n",
        "- Observational study\n",
        "- Randomized controlled trial (RCT)\n",
        "- Case-control study"
      ],
      "metadata": {
        "id": "3A7dhuV6uhNk"
      },
      "id": "3A7dhuV6uhNk"
    },
    {
      "cell_type": "code",
      "source": [
        "# 🧪 Place your answer below:"
      ],
      "metadata": {
        "id": "GI9PwxwUthdA"
      },
      "execution_count": null,
      "outputs": [],
      "id": "GI9PwxwUthdA"
    },
    {
      "cell_type": "markdown",
      "source": [
        "2. Explain why randomized controlled trials (RCTs) are considered the “gold standard.” (10 pts)"
      ],
      "metadata": {
        "id": "Hc8k7NDYus7T"
      },
      "id": "Hc8k7NDYus7T"
    },
    {
      "cell_type": "code",
      "source": [
        "# 🧪 Place your answer below:"
      ],
      "metadata": {
        "id": "zmoTNKymthgV"
      },
      "execution_count": null,
      "outputs": [],
      "id": "zmoTNKymthgV"
    },
    {
      "cell_type": "markdown",
      "source": [
        "### Task 5 – Trade-offs in Study Design (20 points)"
      ],
      "metadata": {
        "id": "Y6o1Pnv5u2Rv"
      },
      "id": "Y6o1Pnv5u2Rv"
    },
    {
      "cell_type": "markdown",
      "source": [
        "1. Which study design is typically least expensive and fastest, but weakest for causal claims? (10 pts)\n",
        "- A. Randomized controlled trial\n",
        "- B. Cross-sectional study\n",
        "- C. Longitudinal study\n",
        "- D. Case-control study"
      ],
      "metadata": {
        "id": "cneN65VYu37t"
      },
      "id": "cneN65VYu37t"
    },
    {
      "cell_type": "code",
      "source": [
        "# 🧪 Place your answer below:"
      ],
      "metadata": {
        "id": "iPVfUEeythjv"
      },
      "execution_count": null,
      "outputs": [],
      "id": "iPVfUEeythjv"
    },
    {
      "cell_type": "markdown",
      "source": [
        "2. Reflection: A fisheries researcher wants to know whether a new type of fishing gear improves catch rates. Which design would you recommend, and what is the main trade-off? (10 pts)"
      ],
      "metadata": {
        "id": "_Iu4xAZzvGHx"
      },
      "id": "_Iu4xAZzvGHx"
    },
    {
      "cell_type": "code",
      "source": [
        "# 🧪 Place your answer below:"
      ],
      "metadata": {
        "id": "IqmuBZ9kthnJ"
      },
      "execution_count": null,
      "outputs": [],
      "id": "IqmuBZ9kthnJ"
    }
  ],
  "metadata": {
    "colab": {
      "provenance": []
    },
    "kernelspec": {
      "display_name": "Python 3",
      "language": "python",
      "name": "python3"
    },
    "language_info": {
      "codemirror_mode": {
        "name": "ipython",
        "version": 3
      },
      "file_extension": ".py",
      "mimetype": "text/x-python",
      "name": "python",
      "nbconvert_exporter": "python",
      "pygments_lexer": "ipython3",
      "version": "3.8.5"
    }
  },
  "nbformat": 4,
  "nbformat_minor": 5
}