{
 "cells": [
  {
   "cell_type": "markdown",
   "id": "f8d80055",
   "metadata": {},
   "source": [
    "[![Open In Colab](https://colab.research.google.com/assets/colab-badge.svg)](https://colab.research.google.com/github/Galilel30/statpython-notebooks/blob/main/Foundations_of_Statistical_Thinking/Lesson_3.ipynb?copy_to_drive=true)"
   ]
  },
  {
   "cell_type": "markdown",
   "id": "d66610c8",
   "metadata": {},
   "source": [
    "# Lesson 3\n",
    "\n",
    "**Module:** Foundations of Statistical Thinking"
   ]
  },
  {
   "cell_type": "markdown",
   "id": "1701f373",
   "metadata": {},
   "source": [
    "## Learning Objectives\n",
    "\n",
    "Asking Good Statistical Questions: Learning to formulate questions that can be answered with data.\n",
    "\n",
    "By the end of this lesson, you will be able to:\n",
    "- Understand the core concepts\n",
    "- Apply practical examples\n",
    "- Complete hands-on exercises"
   ]
  },
  {
   "cell_type": "markdown",
   "id": "552c0b94",
   "metadata": {},
   "source": [
    "## Setup\n",
    "\n",
    "Let's start by importing the necessary libraries."
   ]
  },
  {
   "cell_type": "code",
   "execution_count": null,
   "id": "dbb17dab",
   "metadata": {},
   "outputs": [],
   "source": [
    "# Import necessary libraries\n",
    "import numpy as np\n",
    "import pandas as pd\n",
    "import matplotlib.pyplot as plt\n",
    "import seaborn as sns\n",
    "\n",
    "# Set plotting style\n",
    "plt.style.use('default')\n",
    "sns.set_palette('viridis')\n",
    "\n",
    "print('Libraries imported successfully!')"
   ]
  },
  {
   "cell_type": "markdown",
   "id": "6b300352",
   "metadata": {},
   "source": [
    "## Lesson Content\n",
    "\n",
    "*Add your lesson content here*"
   ]
  },
  {
   "cell_type": "markdown",
   "id": "f24a2ffa",
   "metadata": {},
   "source": [
    "## Practice Exercise\n",
    "\n",
    "Now it's time to practice what you've learned!\n",
    "\n",
    "**Instructions:**\n",
    "1. Read the problem carefully\n",
    "2. Write your code in the cell below\n",
    "3. Test your solution\n",
    "4. Experiment with different approaches"
   ]
  },
  {
   "cell_type": "code",
   "execution_count": null,
   "id": "46696b60",
   "metadata": {},
   "outputs": [],
   "source": [
    "# 🧪 Practice your Python statistical analysis code below:\n",
    "\n"
   ]
  }
 ],
 "metadata": {
  "colab": {
   "collapsed_sections": [],
   "provenance": []
  },
  "kernelspec": {
   "display_name": "Python 3",
   "language": "python",
   "name": "python3"
  },
  "language_info": {
   "codemirror_mode": {
    "name": "ipython",
    "version": 3
   },
   "file_extension": ".py",
   "mimetype": "text/x-python",
   "name": "python",
   "nbconvert_exporter": "python",
   "pygments_lexer": "ipython3",
   "version": "3.8.5"
  }
 },
 "nbformat": 4,
 "nbformat_minor": 5
}
