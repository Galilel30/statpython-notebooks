{
  "cells": [
    {
      "cell_type": "markdown",
      "id": "f8d80055",
      "metadata": {
        "id": "f8d80055"
      },
      "source": [
        "[![Open In Colab](https://colab.research.google.com/assets/colab-badge.svg)](https://colab.research.google.com/github/Galilel30/statpython-notebooks/blob/main/Foundations_of_Statistical_Thinking/Lesson_3.ipynb?copy_to_drive=true)"
      ]
    },
    {
      "cell_type": "markdown",
      "id": "d66610c8",
      "metadata": {
        "id": "d66610c8"
      },
      "source": [
        "# Assignment 3 - Asking Good Statistical Questions\n",
        "\n",
        "**Module:** Foundations of Statistical Thinking"
      ]
    },
    {
      "cell_type": "markdown",
      "id": "f24a2ffa",
      "metadata": {
        "id": "f24a2ffa"
      },
      "source": [
        "## Practice Exercise (100 points)\n",
        "\n",
        "Now it's time to practice what you've learned!\n",
        "\n",
        "Instructions:\n",
        "\n",
        "- Go to the file tab and click \"Save a copy in drive\"\n",
        "- Read the problem carefully\n",
        "- Write your code in the cell below\n",
        "- Test your solution\n",
        "- Experiment with different approaches"
      ]
    },
    {
      "cell_type": "markdown",
      "source": [
        "Write your:\n",
        "\n",
        "- Full Name\n",
        "- Date"
      ],
      "metadata": {
        "id": "LteT-SWmWE76"
      },
      "id": "LteT-SWmWE76"
    },
    {
      "cell_type": "code",
      "execution_count": null,
      "metadata": {
        "id": "fe3db3df"
      },
      "outputs": [],
      "source": [
        "Full Name:\n",
        "Date:"
      ],
      "id": "fe3db3df"
    },
    {
      "cell_type": "markdown",
      "source": [
        "### Task 1 – Distinguishing Statistical vs. Non-Statistical Questions (20 points)"
      ],
      "metadata": {
        "id": "ykxEHlZUVnfs"
      },
      "id": "ykxEHlZUVnfs"
    },
    {
      "cell_type": "markdown",
      "source": [
        "1. Which of the following is a statistical question? Explain your chosen answer (10 pts)\n",
        "- A. What is 5 + 7?\n",
        "- B. How tall is Maria?\n",
        "- C. What is the average height of students in our class?\n",
        "- D. What is the formula for area of a circle?"
      ],
      "metadata": {
        "id": "r00XJxcPV4rc"
      },
      "id": "r00XJxcPV4rc"
    },
    {
      "cell_type": "code",
      "source": [
        "# 🧪 Place your answer below:"
      ],
      "metadata": {
        "id": "DPbj6457SnI3"
      },
      "execution_count": null,
      "outputs": [],
      "id": "DPbj6457SnI3"
    },
    {
      "cell_type": "markdown",
      "source": [
        "2. Identify whether each is statistical (S) or non-statistical (NS) (10 pts):\n",
        "\n",
        "- a. How many hours do students in our school study per week?\n",
        "- b. What is the capital of the Philippines?\n",
        "- c. What proportion of households in our town own a fishing boat?\n",
        "- d. Who won the basketball game yesterday?"
      ],
      "metadata": {
        "id": "8PWVqao4WQ41"
      },
      "id": "8PWVqao4WQ41"
    },
    {
      "cell_type": "code",
      "source": [
        "# 🧪 Place your answer below:"
      ],
      "metadata": {
        "id": "g637S3ONWO79"
      },
      "execution_count": null,
      "outputs": [],
      "id": "g637S3ONWO79"
    },
    {
      "cell_type": "markdown",
      "source": [
        "### Task 2 – Components of Good Statistical Questions (25 points)"
      ],
      "metadata": {
        "id": "-V3sm_GLWfDm"
      },
      "id": "-V3sm_GLWfDm"
    },
    {
      "cell_type": "markdown",
      "source": [
        "1. List three components of a well-structured statistical question. (10 pts)"
      ],
      "metadata": {
        "id": "ivkzhEfCWiMZ"
      },
      "id": "ivkzhEfCWiMZ"
    },
    {
      "cell_type": "code",
      "source": [
        "# 🧪 Place your answer below:"
      ],
      "metadata": {
        "id": "qM7RKEOmWPDI"
      },
      "execution_count": null,
      "outputs": [],
      "id": "qM7RKEOmWPDI"
    },
    {
      "cell_type": "markdown",
      "source": [
        "2. For the question: “How many fish are there in the sea?” (15 pts)"
      ],
      "metadata": {
        "id": "hKUf1SY4WupD"
      },
      "id": "hKUf1SY4WupD"
    },
    {
      "cell_type": "code",
      "source": [
        "# 🧪 Place your answer below:"
      ],
      "metadata": {
        "id": "RM_bDoMRWPHt"
      },
      "execution_count": null,
      "outputs": [],
      "id": "RM_bDoMRWPHt"
    },
    {
      "cell_type": "markdown",
      "source": [
        "### Task 3 – Formulating Statistical Questions (25 points)"
      ],
      "metadata": {
        "id": "BnJQsfhMWzjo"
      },
      "id": "BnJQsfhMWzjo"
    },
    {
      "cell_type": "markdown",
      "source": [
        "1. Write two statistical questions related to student life. (10 pts)"
      ],
      "metadata": {
        "id": "CM6EFdnRW20w"
      },
      "id": "CM6EFdnRW20w"
    },
    {
      "cell_type": "code",
      "source": [
        "# 🧪 Place your answer below:"
      ],
      "metadata": {
        "id": "QWeJ5u-YWPLh"
      },
      "execution_count": null,
      "outputs": [],
      "id": "QWeJ5u-YWPLh"
    },
    {
      "cell_type": "markdown",
      "source": [
        "2. Transform these vague inquiries into focused statistical investigations (15 pts):\n",
        "- a. “Do people exercise?”\n",
        "- b. “Are fish big in this lake?”"
      ],
      "metadata": {
        "id": "rejzSNSmW6GJ"
      },
      "id": "rejzSNSmW6GJ"
    },
    {
      "cell_type": "code",
      "source": [
        "# 🧪 Place your answer below:"
      ],
      "metadata": {
        "id": "6ahNI4seWPOm"
      },
      "execution_count": null,
      "outputs": [],
      "id": "6ahNI4seWPOm"
    },
    {
      "cell_type": "markdown",
      "source": [
        "### Task 4 – Applying Statistical Questioning (30 points)"
      ],
      "metadata": {
        "id": "Y7DPdpkWXBr1"
      },
      "id": "Y7DPdpkWXBr1"
    },
    {
      "cell_type": "markdown",
      "source": [
        "1. Reflection: Why is it important to ask good statistical questions before collecting data? Give at least 3 reasons. (15 pts)"
      ],
      "metadata": {
        "id": "poqBi-a-XEmj"
      },
      "id": "poqBi-a-XEmj"
    },
    {
      "cell_type": "code",
      "source": [
        "# 🧪 Place your answer below:"
      ],
      "metadata": {
        "id": "evtksT6cWPRx"
      },
      "execution_count": null,
      "outputs": [],
      "id": "evtksT6cWPRx"
    },
    {
      "cell_type": "markdown",
      "source": [
        "2. Suppose you are tasked with studying fishing practices in your community. Write one good statistical question and explain why it is well-structured. (15 pts)"
      ],
      "metadata": {
        "id": "giXMCHBuXH2o"
      },
      "id": "giXMCHBuXH2o"
    },
    {
      "cell_type": "code",
      "source": [
        "# 🧪 Place your answer below:"
      ],
      "metadata": {
        "id": "oXWNUUk4WPVG"
      },
      "execution_count": null,
      "outputs": [],
      "id": "oXWNUUk4WPVG"
    }
  ],
  "metadata": {
    "colab": {
      "provenance": []
    },
    "kernelspec": {
      "display_name": "Python 3",
      "language": "python",
      "name": "python3"
    },
    "language_info": {
      "codemirror_mode": {
        "name": "ipython",
        "version": 3
      },
      "file_extension": ".py",
      "mimetype": "text/x-python",
      "name": "python",
      "nbconvert_exporter": "python",
      "pygments_lexer": "ipython3",
      "version": "3.8.5"
    }
  },
  "nbformat": 4,
  "nbformat_minor": 5
}