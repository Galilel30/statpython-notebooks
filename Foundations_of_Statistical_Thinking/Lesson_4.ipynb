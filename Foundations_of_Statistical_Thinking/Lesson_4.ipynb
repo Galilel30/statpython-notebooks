{
  "cells": [
    {
      "cell_type": "markdown",
      "id": "c61d9e21",
      "metadata": {
        "id": "c61d9e21"
      },
      "source": [
        "[![Open In Colab](https://colab.research.google.com/assets/colab-badge.svg)](https://colab.research.google.com/github/Galilel30/statpython-notebooks/blob/main/Foundations_of_Statistical_Thinking/Lesson_4.ipynb?copy_to_drive=true)"
      ]
    },
    {
      "cell_type": "markdown",
      "id": "d40b9c97",
      "metadata": {
        "id": "d40b9c97"
      },
      "source": [
        "# Assignment 4 – Understanding Populations and Samples\n",
        "\n",
        "**Module:** Foundations of Statistical Thinking"
      ]
    },
    {
      "cell_type": "markdown",
      "id": "dad630f6",
      "metadata": {
        "id": "dad630f6"
      },
      "source": [
        "## Practice Exercise (100 points)\n",
        "\n",
        "Now it's time to practice what you've learned!\n",
        "\n",
        "Instructions:\n",
        "\n",
        "- Go to the file tab and click \"Save a copy in drive\"\n",
        "- Read the problem carefully\n",
        "- Write your code in the cell below\n",
        "- Test your solution\n",
        "- Experiment with different approaches"
      ]
    },
    {
      "cell_type": "markdown",
      "source": [
        "Write your:\n",
        "\n",
        "- Full Name\n",
        "- Date"
      ],
      "metadata": {
        "id": "LteT-SWmWE76"
      },
      "id": "LteT-SWmWE76"
    },
    {
      "cell_type": "code",
      "execution_count": null,
      "metadata": {
        "id": "fe3db3df"
      },
      "outputs": [],
      "source": [
        "Full Name:\n",
        "Date:"
      ],
      "id": "fe3db3df"
    },
    {
      "cell_type": "markdown",
      "source": [
        "### Task 1 – Defining Key Concepts (20 points)"
      ],
      "metadata": {
        "id": "Qop49zXlp_P6"
      },
      "id": "Qop49zXlp_P6"
    },
    {
      "cell_type": "markdown",
      "source": [
        "1. Define the following in your own words (10 pts):\n",
        "- a. Population\n",
        "- b. Sample"
      ],
      "metadata": {
        "id": "KIjnqSvqqFKC"
      },
      "id": "KIjnqSvqqFKC"
    },
    {
      "cell_type": "code",
      "source": [
        "# 🧪 Place your answer below:"
      ],
      "metadata": {
        "id": "DPbj6457SnI3"
      },
      "execution_count": null,
      "outputs": [],
      "id": "DPbj6457SnI3"
    },
    {
      "cell_type": "markdown",
      "source": [
        "2. Which of the following best illustrates the relationship between a population and a sample? Explain your chosen answer (10 pts)\n",
        "- A. A population is a large sample.\n",
        "- B. A sample is a smaller group taken from a population to draw conclusions about the whole.\n",
        "- C. A population and a sample are always the same.\n",
        "- D. A sample is larger than the population."
      ],
      "metadata": {
        "id": "rk5jhF6kqK36"
      },
      "id": "rk5jhF6kqK36"
    },
    {
      "cell_type": "code",
      "source": [
        "# 🧪 Place your answer below:"
      ],
      "metadata": {
        "id": "mqR8mqb3p9Gf"
      },
      "execution_count": null,
      "outputs": [],
      "id": "mqR8mqb3p9Gf"
    },
    {
      "cell_type": "markdown",
      "source": [
        "### Task 2 – Why Use Samples? (20 points)"
      ],
      "metadata": {
        "id": "uYwq7PKxqfHO"
      },
      "id": "uYwq7PKxqfHO"
    },
    {
      "cell_type": "markdown",
      "source": [
        "1. Explain two reasons why researchers often study samples instead of entire populations. (10 pts)"
      ],
      "metadata": {
        "id": "9evBe-dRqiyX"
      },
      "id": "9evBe-dRqiyX"
    },
    {
      "cell_type": "code",
      "source": [
        "# 🧪 Place your answer below:"
      ],
      "metadata": {
        "id": "0wLgXZBup9Qv"
      },
      "execution_count": null,
      "outputs": [],
      "id": "0wLgXZBup9Qv"
    },
    {
      "cell_type": "markdown",
      "source": [
        "2. Give a real-world example (outside of class) where using a sample is necessary. (10 pts)"
      ],
      "metadata": {
        "id": "5kfMjJc0q1oW"
      },
      "id": "5kfMjJc0q1oW"
    },
    {
      "cell_type": "code",
      "source": [
        "# 🧪 Place your answer below:"
      ],
      "metadata": {
        "id": "LIjkcz7Vp9Vm"
      },
      "execution_count": null,
      "outputs": [],
      "id": "LIjkcz7Vp9Vm"
    },
    {
      "cell_type": "markdown",
      "source": [
        "### Task 3 – Sampling Bias and Representativeness (25 points)"
      ],
      "metadata": {
        "id": "fmlh2zXmq4nw"
      },
      "id": "fmlh2zXmq4nw"
    },
    {
      "cell_type": "markdown",
      "source": [
        "1. Which of the following introduces sampling bias? Explain your chosen answer. (10 pts)\n",
        "- A. Randomly selecting students from a class list.\n",
        "- B. Only surveying students who are in the library at 8 AM.\n",
        "- C. Using a random number generator to select households.\n",
        "- D. Drawing lots to pick participants."
      ],
      "metadata": {
        "id": "FI1P4ayVq9T5"
      },
      "id": "FI1P4ayVq9T5"
    },
    {
      "cell_type": "code",
      "source": [
        "# 🧪 Place your answer below:"
      ],
      "metadata": {
        "id": "-agg3ug7p9ZP"
      },
      "execution_count": null,
      "outputs": [],
      "id": "-agg3ug7p9ZP"
    },
    {
      "cell_type": "markdown",
      "source": [
        "2. Scenario: A survey on student eating habits only includes students in the cafeteria at lunchtime. (15 pts)\n",
        "\n",
        "- Why is this sample biased?\n",
        "- Suggest one way to improve it."
      ],
      "metadata": {
        "id": "VcEfronGrQCT"
      },
      "id": "VcEfronGrQCT"
    },
    {
      "cell_type": "code",
      "source": [
        "# 🧪 Place your answer below:"
      ],
      "metadata": {
        "id": "JW7Naqsnp9cQ"
      },
      "execution_count": null,
      "outputs": [],
      "id": "JW7Naqsnp9cQ"
    },
    {
      "cell_type": "markdown",
      "source": [
        "### Task 4 – Sampling Variability (20 points)"
      ],
      "metadata": {
        "id": "Zk7ET1ZgrYo1"
      },
      "id": "Zk7ET1ZgrYo1"
    },
    {
      "cell_type": "markdown",
      "source": [
        "1. Explain in your own words what sampling variability means.(10 pts)"
      ],
      "metadata": {
        "id": "viPrARX1rcVi"
      },
      "id": "viPrARX1rcVi"
    },
    {
      "cell_type": "code",
      "source": [
        "# 🧪 Place your answer below:"
      ],
      "metadata": {
        "id": "E4afaRfkp9fm"
      },
      "execution_count": null,
      "outputs": [],
      "id": "E4afaRfkp9fm"
    },
    {
      "cell_type": "markdown",
      "source": [
        "2. Suppose three different groups each survey 100 students about daily study hours. The averages are 2.8, 3.1, and 2.9 hours. What concept does this illustrate? (10 pts)"
      ],
      "metadata": {
        "id": "Hi9pzaHYrgYH"
      },
      "id": "Hi9pzaHYrgYH"
    },
    {
      "cell_type": "code",
      "source": [
        "# 🧪 Place your answer below:"
      ],
      "metadata": {
        "id": "qW57963pp9tC"
      },
      "execution_count": null,
      "outputs": [],
      "id": "qW57963pp9tC"
    },
    {
      "cell_type": "markdown",
      "source": [
        "### Task 5 – Evaluating Samples (15 points)"
      ],
      "metadata": {
        "id": "FG7dE7oprlSL"
      },
      "id": "FG7dE7oprlSL"
    },
    {
      "cell_type": "markdown",
      "source": [
        "1. Reflection: Imagine you read a news headline: “Survey shows 90% of citizens support new law”.\n",
        "\n",
        "- What two questions would you ask to evaluate the quality and representativeness of this sample?"
      ],
      "metadata": {
        "id": "Qw5oyc5NrpXo"
      },
      "id": "Qw5oyc5NrpXo"
    },
    {
      "cell_type": "code",
      "source": [
        "# 🧪 Place your answer below:"
      ],
      "metadata": {
        "id": "612RrpqXp-HT"
      },
      "execution_count": null,
      "outputs": [],
      "id": "612RrpqXp-HT"
    }
  ],
  "metadata": {
    "colab": {
      "provenance": []
    },
    "kernelspec": {
      "display_name": "Python 3",
      "language": "python",
      "name": "python3"
    },
    "language_info": {
      "codemirror_mode": {
        "name": "ipython",
        "version": 3
      },
      "file_extension": ".py",
      "mimetype": "text/x-python",
      "name": "python",
      "nbconvert_exporter": "python",
      "pygments_lexer": "ipython3",
      "version": "3.8.5"
    }
  },
  "nbformat": 4,
  "nbformat_minor": 5
}