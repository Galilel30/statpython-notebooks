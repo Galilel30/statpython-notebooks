{
 "cells": [
  {
   "cell_type": "markdown",
   "id": "ca26682c",
   "metadata": {},
   "source": [
    "# Lesson 1 — Probability Theory and Distributions"
   ]
  },
  {
   "cell_type": "markdown",
   "id": "8465aefa",
   "metadata": {},
   "source": [
    "Probability Concepts: Probability rules, conditional probability, and simulations."
   ]
  },
  {
   "cell_type": "code",
   "execution_count": null,
   "id": "c3a8753e",
   "metadata": {},
   "outputs": [],
   "source": [
    "# 🧪 Practice your Python statistical analysis code below:\n"
   ]
  }
 ],
 "metadata": {},
 "nbformat": 4,
 "nbformat_minor": 5
}
