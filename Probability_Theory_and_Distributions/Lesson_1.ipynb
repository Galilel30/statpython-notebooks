{
  "cells": [
    {
      "cell_type": "markdown",
      "id": "ca26682c",
      "metadata": {
        "id": "ca26682c"
      },
      "source": [
        "# Lesson 1 — Probability Theory and Distributions"
      ]
    },
    {
      "cell_type": "markdown",
      "id": "8465aefa",
      "metadata": {
        "id": "8465aefa"
      },
      "source": [
        "🔹 Assignment 1: Simulate Coin Tosses and Estimate Probability\n",
        "\n",
        "###Objective: Use simulation to estimate probability of outcomes.\n",
        "\n",
        "Instructions:\n",
        "\n",
        "  * Simulate tossing a fair coin 100 times using random.choice(['Heads', 'Tails']).\n",
        "  * Count how many times you get:\n",
        "\n",
        "    - Heads\n",
        "    - Tails\n",
        "\n",
        "  * Compute the estimated probability of each.\n",
        "\n",
        "###Example Output:\n",
        "\n",
        "      Heads: 53 times → 0.53\n",
        "      Tails: 47 times → 0.47\n",
        "\n",
        "Challenge:\n",
        "Does the empirical probability match the theoretical one? Why or why not?"
      ]
    },
    {
      "cell_type": "code",
      "execution_count": null,
      "id": "c3a8753e",
      "metadata": {
        "id": "c3a8753e"
      },
      "outputs": [],
      "source": [
        "# 🧪 Practice your Python statistical analysis code below:\n"
      ]
    },
    {
      "cell_type": "markdown",
      "metadata": {
        "id": "YMOsal1mlaBH"
      },
      "source": [
        "🔹 Assignment 2: Conditional Probability – Drawing from a Bag\n",
        "\n",
        "###Objective: Explore conditional probability using simulation.\n",
        "\n",
        "####Scenario:\n",
        "You have a bag with:\n",
        "  - 3 red balls\n",
        "  - 2 green balls\n",
        "  - 5 blue balls\n",
        "\n",
        "Instructions:\n",
        "\n",
        "  * Simulate drawing 2 balls without replacement.\n",
        "  * Estimate the conditional probability:\n",
        "        P(Second is green | First is red)\n",
        "\n",
        "  * Run the simulation 1000 times and count favorable outcomes.\n",
        "\n",
        "Challenge:\n",
        "How would the probability change if you drew with replacement?"
      ],
      "id": "YMOsal1mlaBH"
    }
  ],
  "metadata": {
    "colab": {
      "provenance": []
    }
  },
  "nbformat": 4,
  "nbformat_minor": 5
}