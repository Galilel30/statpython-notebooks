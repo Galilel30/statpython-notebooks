{
 "cells": [
  {
   "cell_type": "markdown",
   "id": "fc1c6b17",
   "metadata": {},
   "source": [
    "# Lesson 1 — Categorical Data Analysis"
   ]
  },
  {
   "cell_type": "markdown",
   "id": "e6828845",
   "metadata": {},
   "source": [
    "Chi-Square Tests: Goodness-of-fit and independence tests using contingency tables."
   ]
  },
  {
   "cell_type": "code",
   "execution_count": null,
   "id": "838f0668",
   "metadata": {},
   "outputs": [],
   "source": [
    "# 🧪 Practice your Python statistical analysis code below:\n"
   ]
  }
 ],
 "metadata": {},
 "nbformat": 4,
 "nbformat_minor": 5
}
