{
 "cells": [
  {
   "cell_type": "markdown",
   "id": "86021bd5",
   "metadata": {},
   "source": [
    "# Lesson 1 — Statistical Inference"
   ]
  },
  {
   "cell_type": "markdown",
   "id": "d28eda02",
   "metadata": {},
   "source": [
    "Sampling Distributions & CLT: Central Limit Theorem and sampling distribution concepts with simulations."
   ]
  },
  {
   "cell_type": "code",
   "execution_count": null,
   "id": "4494855e",
   "metadata": {},
   "outputs": [],
   "source": [
    "# 🧪 Practice your Python statistical analysis code below:\n"
   ]
  }
 ],
 "metadata": {},
 "nbformat": 4,
 "nbformat_minor": 5
}
