{
 "cells": [
  {
   "cell_type": "markdown",
   "id": "3a10d3e9",
   "metadata": {},
   "source": [
    "# Lesson 3 — Statistical Inference"
   ]
  },
  {
   "cell_type": "markdown",
   "id": "d5608dbe",
   "metadata": {},
   "source": [
    "Hypothesis Testing: One- and two-tailed tests, p-values, and significance testing using Python."
   ]
  },
  {
   "cell_type": "code",
   "execution_count": null,
   "id": "6d9b1299",
   "metadata": {},
   "outputs": [],
   "source": [
    "# 🧪 Practice your Python statistical analysis code below:\n"
   ]
  }
 ],
 "metadata": {},
 "nbformat": 4,
 "nbformat_minor": 5
}
