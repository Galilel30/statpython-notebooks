{
 "cells": [
  {
   "cell_type": "markdown",
   "id": "c5c39510",
   "metadata": {},
   "source": [
    "# Lesson 2 — Statistical Inference"
   ]
  },
  {
   "cell_type": "markdown",
   "id": "a2f6e913",
   "metadata": {},
   "source": [
    "Estimation and Confidence Intervals: Confidence intervals for means and proportions using real datasets."
   ]
  },
  {
   "cell_type": "code",
   "execution_count": null,
   "id": "3f8db4a1",
   "metadata": {},
   "outputs": [],
   "source": [
    "# 🧪 Practice your Python statistical analysis code below:\n"
   ]
  }
 ],
 "metadata": {},
 "nbformat": 4,
 "nbformat_minor": 5
}
