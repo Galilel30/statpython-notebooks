{
 "cells": [
  {
   "cell_type": "markdown",
   "id": "3069c19a",
   "metadata": {},
   "source": [
    "# Lesson 2 — Correlation and Regression"
   ]
  },
  {
   "cell_type": "markdown",
   "id": "993a08e5",
   "metadata": {},
   "source": [
    "Simple Linear Regression: Line fitting, interpretation of slope and R², assumptions."
   ]
  },
  {
   "cell_type": "code",
   "execution_count": null,
   "id": "c37b3e4e",
   "metadata": {},
   "outputs": [],
   "source": [
    "# 🧪 Practice your Python statistical analysis code below:\n"
   ]
  }
 ],
 "metadata": {},
 "nbformat": 4,
 "nbformat_minor": 5
}
