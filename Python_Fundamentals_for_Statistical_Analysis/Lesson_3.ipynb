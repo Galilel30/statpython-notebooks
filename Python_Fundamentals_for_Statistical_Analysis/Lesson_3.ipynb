{
  "cells": [
    {
      "cell_type": "markdown",
      "id": "badb15a2",
      "metadata": {
        "id": "badb15a2"
      },
      "source": [
        "[![Open In Colab](https://colab.research.google.com/assets/colab-badge.svg)](https://colab.research.google.com/github/Galilel30/statpython-notebooks/blob/main/Python_Fundamentals_for_Statistical_Analysis/Lesson_3.ipynb?copy_to_drive=true)"
      ]
    },
    {
      "cell_type": "markdown",
      "id": "0ed586a7",
      "metadata": {
        "id": "0ed586a7"
      },
      "source": [
        "# Assignment 3: Working with Lists and Dictionaries\n",
        "\n",
        "**Module:** Python Fundamentals for Statistical Analysis"
      ]
    },
    {
      "cell_type": "markdown",
      "id": "c2abb16d",
      "metadata": {
        "id": "c2abb16d"
      },
      "source": [
        "## Practice Exercise\n",
        "\n",
        "Now it's time to practice what you've learned!\n",
        "\n",
        "**Instructions:**\n",
        "1. Go to the file tab and click \"Save a copy in drive\"\n",
        "2. Read the problem carefully\n",
        "3. Write your code in the cell below\n",
        "4. Test your solution\n",
        "5. Experiment with different approaches"
      ]
    },
    {
      "cell_type": "markdown",
      "source": [
        "Write your:\n",
        "\n",
        "- Full Name\n",
        "- Date"
      ],
      "metadata": {
        "id": "MATqXzOWkZhq"
      },
      "id": "MATqXzOWkZhq"
    },
    {
      "cell_type": "code",
      "execution_count": null,
      "id": "ebbb556e",
      "metadata": {
        "id": "ebbb556e"
      },
      "outputs": [],
      "source": [
        "Full Name:\n",
        "Date:"
      ]
    },
    {
      "cell_type": "markdown",
      "source": [
        "### Task 1: Creating Lists (10 points)\n",
        "\n",
        "- Create a list called ages with the following values:\n",
        "```python\n",
        "[18, 20, 19, 22, 21, 20, 19]\n",
        "```\n",
        "- Print:\n",
        "  - The first element\n",
        "  - The last element\n",
        "  - The length of the list"
      ],
      "metadata": {
        "id": "0O7zN-wHkfst"
      },
      "id": "0O7zN-wHkfst"
    },
    {
      "cell_type": "code",
      "source": [
        "# 🧪 Practice your Python statistical analysis code below:"
      ],
      "metadata": {
        "id": "NeLkCPkVkyua"
      },
      "id": "NeLkCPkVkyua",
      "execution_count": null,
      "outputs": []
    },
    {
      "cell_type": "markdown",
      "source": [
        "### Task 2: Modifying Lists (15 points)\n",
        "  - Add the value 23 to the list.\n",
        "  - Remove the first occurrence of 20.\n",
        "  - Replace the second element with 25.\n",
        "  - Print the updated list."
      ],
      "metadata": {
        "id": "YCrNzJj0kvsI"
      },
      "id": "YCrNzJj0kvsI"
    },
    {
      "cell_type": "code",
      "source": [
        "# 🧪 Practice your Python statistical analysis code below:"
      ],
      "metadata": {
        "id": "l58TZdeFk2vM"
      },
      "id": "l58TZdeFk2vM",
      "execution_count": null,
      "outputs": []
    },
    {
      "cell_type": "markdown",
      "source": [
        "### Task 3: List Methods and Comprehensions (20 points)\n",
        "- Using the updated ages list:\n",
        "  1. Find the average age.\n",
        "  2. Sort the list in ascending order.\n",
        "  3. Create a new list using a list comprehension that contains only ages greater than 20."
      ],
      "metadata": {
        "id": "QfgTV-ZAk9qI"
      },
      "id": "QfgTV-ZAk9qI"
    },
    {
      "cell_type": "code",
      "source": [
        "# 🧪 Practice your Python statistical analysis code below:"
      ],
      "metadata": {
        "id": "aKnrQA6ClJ2-"
      },
      "id": "aKnrQA6ClJ2-",
      "execution_count": null,
      "outputs": []
    },
    {
      "cell_type": "markdown",
      "source": [
        "### Task 4: Working with Dictionaries (20 points)\n",
        "\n",
        "- Create a dictionary called student with the following keys and values:\n",
        "```python\n",
        "{\n",
        "  \"name\": \"Anna\",\n",
        "  \"age\": 21,\n",
        "  \"course\": \"BS Fisheries\",\n",
        "  \"is_enrolled\": True\n",
        "}\n",
        "```\n",
        "- Print:\n",
        "  - The student’s name\n",
        "  - The student’s age\n",
        "  - Add a new key-value pair: \"grade\": 92\n",
        "  - Update \"age\" to 22\n",
        "  - Delete \"is_enrolled\"\n",
        "  \n",
        "- Print the updated dictionary."
      ],
      "metadata": {
        "id": "yso4ydG8lL3Q"
      },
      "id": "yso4ydG8lL3Q"
    },
    {
      "cell_type": "code",
      "source": [
        "# 🧪 Practice your Python statistical analysis code below:"
      ],
      "metadata": {
        "id": "y3hsy3Y5lhDP"
      },
      "id": "y3hsy3Y5lhDP",
      "execution_count": null,
      "outputs": []
    },
    {
      "cell_type": "markdown",
      "source": [
        "### Task 5: Statistical Example – Survey Data (25 points)\n",
        "\n",
        "You conducted a survey asking 5 students how many hours they studied last week. Store the data in a dictionary like this:\n",
        "```python\n",
        "study_hours = {\n",
        "    \"Alice\": 12,\n",
        "    \"Ben\": 8,\n",
        "    \"Carla\": 15,\n",
        "    \"David\": 10,\n",
        "    \"Ella\": 9\n",
        "}\n",
        "```\n",
        "- Print the average study hours.\n",
        "- Print the name of the student who studied the most hours.\n",
        "- Print the name of the student who studied the least hours."
      ],
      "metadata": {
        "id": "8w4VMzqMljkc"
      },
      "id": "8w4VMzqMljkc"
    },
    {
      "cell_type": "code",
      "source": [
        "# 🧪 Practice your Python statistical analysis code below:"
      ],
      "metadata": {
        "id": "LZ2e3V8elw3e"
      },
      "id": "LZ2e3V8elw3e",
      "execution_count": null,
      "outputs": []
    },
    {
      "cell_type": "markdown",
      "source": [
        "### Task 6: Nested Structures (10 points)\n",
        "\n",
        "Create a list of dictionaries to store survey data of 3 students, each with name, age, and study_hours. Example:\n",
        "```python\n",
        "[\n",
        "  {\"name\": \"Anna\", \"age\": 21, \"study_hours\": 12},\n",
        "  {\"name\": \"Ben\", \"age\": 22, \"study_hours\": 15},\n",
        "  {\"name\": \"Carla\", \"age\": 20, \"study_hours\": 10}\n",
        "]\n",
        "```\n",
        "- Print the average study hours from this nested structure."
      ],
      "metadata": {
        "id": "xkM2tPWaly2D"
      },
      "id": "xkM2tPWaly2D"
    },
    {
      "cell_type": "markdown",
      "source": [
        "### Bonus Challenge: Mini-Research Data Organizer (20 points extra credit)\n",
        "\n",
        "Create a dictionary of lists storing experimental fish weight measurements (in grams) from three ponds:\n",
        "\n",
        "```python\n",
        "fish_weights = {\n",
        "    \"Pond_A\": [200, 210, 190, 205],\n",
        "    \"Pond_B\": [180, 175, 190, 200],\n",
        "    \"Pond_C\": [220, 215, 225, 230]\n",
        "}\n",
        "```\n",
        "- Print:\n",
        "\n",
        "  1. The average weight per pond.\n",
        "  2. The overall average weight across all ponds.\n",
        "  3. The heaviest fish recorded and from which pond it came."
      ],
      "metadata": {
        "id": "h5QBhkwJmB76"
      },
      "id": "h5QBhkwJmB76"
    }
  ],
  "metadata": {
    "colab": {
      "provenance": []
    },
    "kernelspec": {
      "display_name": "Python 3",
      "language": "python",
      "name": "python3"
    },
    "language_info": {
      "codemirror_mode": {
        "name": "ipython",
        "version": 3
      },
      "file_extension": ".py",
      "mimetype": "text/x-python",
      "name": "python",
      "nbconvert_exporter": "python",
      "pygments_lexer": "ipython3",
      "version": "3.8.5"
    }
  },
  "nbformat": 4,
  "nbformat_minor": 5
}