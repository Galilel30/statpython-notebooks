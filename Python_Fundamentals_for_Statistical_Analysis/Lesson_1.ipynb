{
  "cells": [
    {
      "cell_type": "markdown",
      "id": "c1519885",
      "metadata": {
        "id": "c1519885"
      },
      "source": [
        "[![Open In Colab](https://colab.research.google.com/assets/colab-badge.svg)](https://colab.research.google.com/github/Galilel30/statpython-notebooks/blob/main/Python_Fundamentals_for_Statistical_Analysis/Lesson_1.ipynb?copy_to_drive=true)"
      ]
    },
    {
      "cell_type": "markdown",
      "id": "233cb037",
      "metadata": {
        "id": "233cb037"
      },
      "source": [
        "# Assignment 1 - Getting Started with Python\n",
        "\n",
        "**Module:** Python Fundamentals for Statistical Analysis"
      ]
    },
    {
      "cell_type": "markdown",
      "id": "665e5c25",
      "metadata": {
        "id": "665e5c25"
      },
      "source": [
        "## Practice Exercise (100 points)\n",
        "\n",
        "Now it's time to practice what you've learned!\n",
        "\n",
        "**Instructions:**\n",
        "1. Go to the file tab and click \"Save a copy in drive\"\n",
        "2. Read the problem carefully\n",
        "3. Write your code in the cell below\n",
        "4. Test your solution\n",
        "5. Experiment with different approaches"
      ]
    },
    {
      "cell_type": "markdown",
      "source": [
        "Write your:\n",
        "  - Full Name\n",
        "  - Date"
      ],
      "metadata": {
        "id": "yv23HLnmiD_m"
      },
      "id": "yv23HLnmiD_m"
    },
    {
      "cell_type": "code",
      "source": [
        "Full Name:\n",
        "Date:"
      ],
      "metadata": {
        "id": "e4qRD2L-iUus"
      },
      "id": "e4qRD2L-iUus",
      "execution_count": null,
      "outputs": []
    },
    {
      "cell_type": "markdown",
      "source": [
        "### Task 1: Getting Started (10 points)\n",
        "\n",
        "- Add a Markdown cell with your full name, student ID, and the date.\n",
        "- Print the message:\n",
        "\n",
        "```python\n",
        "Hello, Python! This is [Your Name].\n",
        "```"
      ],
      "metadata": {
        "id": "jIN5o369Z-nc"
      },
      "id": "jIN5o369Z-nc"
    },
    {
      "cell_type": "code",
      "execution_count": null,
      "id": "d63a8da7",
      "metadata": {
        "id": "d63a8da7"
      },
      "outputs": [],
      "source": [
        "# 🧪 Practice your Python statistical analysis code below:"
      ]
    },
    {
      "cell_type": "markdown",
      "source": [
        "### Task 2: Basic Syntax (20 points)\n",
        "\n",
        "- Write a program that prints the following pattern (using print() multiple times):\n",
        "```python\n",
        "Python is fun!\n",
        "Python is fun!\n",
        "Python is fun!\n",
        "```\n",
        "- Then, write a single-line Python statement (using string multiplication) that prints the same message 3 times in one line."
      ],
      "metadata": {
        "id": "NzR9NX68ai6m"
      },
      "id": "NzR9NX68ai6m"
    },
    {
      "cell_type": "code",
      "source": [
        "# 🧪 Practice your Python statistical analysis code below:"
      ],
      "metadata": {
        "id": "YfudBbU0a0dg"
      },
      "id": "YfudBbU0a0dg",
      "execution_count": null,
      "outputs": []
    },
    {
      "cell_type": "markdown",
      "source": [
        "### Task 3: Variables and Operations (20 points)\n",
        "\n",
        "- Create three variables:\n",
        "  - name → store your name\n",
        "  - age → store your age\n",
        "  - year → store the current year\n",
        "\n",
        "- Print a sentence using these variables:\n",
        "```python\n",
        "My name is [name]. I am [age] years old in the year [year].\n",
        "```"
      ],
      "metadata": {
        "id": "duBxc-Iha4ic"
      },
      "id": "duBxc-Iha4ic"
    },
    {
      "cell_type": "code",
      "source": [
        "# 🧪 Practice your Python statistical analysis code below:"
      ],
      "metadata": {
        "id": "buqcokG3bIZA"
      },
      "id": "buqcokG3bIZA",
      "execution_count": null,
      "outputs": []
    },
    {
      "cell_type": "markdown",
      "source": [
        "### Task 4: User Input (25 points)\n",
        "\n",
        "- Write a program that asks the user for two numbers (use input()).\n",
        "- Store them in variables.\n",
        "- Calculate and print their:\n",
        "  - Sum\n",
        "  - Difference\n",
        "  - Product\n",
        "  - Quotient\n",
        "\n",
        "Example interaction:\n",
        "```python\n",
        "Enter first number: 8\n",
        "Enter second number: 2\n",
        "Sum: 10\n",
        "Difference: 6\n",
        "Product: 16\n",
        "Quotient: 4.0\n",
        "```"
      ],
      "metadata": {
        "id": "sbssE66ybMKb"
      },
      "id": "sbssE66ybMKb"
    },
    {
      "cell_type": "code",
      "source": [
        "# 🧪 Practice your Python statistical analysis code below:"
      ],
      "metadata": {
        "id": "ukfILbhtc5lQ"
      },
      "id": "ukfILbhtc5lQ",
      "execution_count": null,
      "outputs": []
    },
    {
      "cell_type": "markdown",
      "source": [
        "### Task 5: Mini Challenge Program (25 points)\n",
        "\n",
        "- Write a Python program that asks the user for their name and birth year.\n",
        "- The program should calculate and display:\n",
        "  - Their age in the current year (assume 2025).\n",
        "  - A personalized greeting message.\n",
        "\n",
        "Example:\n",
        "```python\n",
        "Enter your name: Anna\n",
        "Enter your birth year: 2000\n",
        "Hello Anna! You are 25 years old in 2025.\n",
        "```"
      ],
      "metadata": {
        "id": "hkU-bUD5buVY"
      },
      "id": "hkU-bUD5buVY"
    },
    {
      "cell_type": "code",
      "source": [
        "# 🧪 Practice your Python statistical analysis code below:"
      ],
      "metadata": {
        "id": "1qjDH2Z5c6wy"
      },
      "id": "1qjDH2Z5c6wy",
      "execution_count": null,
      "outputs": []
    },
    {
      "cell_type": "markdown",
      "source": [
        "### Bonus Challenge: Number Guessing Game (20 points extra credit)\n",
        "\n",
        "Instructions:\n",
        "- Write a program that:\n",
        "  - Stores a secret number (any number between 1 and 10).\n",
        "  - Asks the user to guess the number.\n",
        "  - Prints whether the guess is correct or wrong.\n",
        "\n",
        "Example:\n",
        "```python\n",
        "Guess a number between 1 and 10: 7\n",
        "Wrong! Try again.\n",
        "Guess a number between 1 and 10: 3\n",
        "Correct! 🎉\n",
        "```\n",
        "Requirements:\n",
        "- Use a variable to store the secret number.\n",
        "- Use input() for user guesses.\n",
        "- Use an if statement to check correctness.\n",
        "- (Optional) Let the program give two chances to guess."
      ],
      "metadata": {
        "id": "4stA1exJcSTe"
      },
      "id": "4stA1exJcSTe"
    },
    {
      "cell_type": "code",
      "source": [
        "# 🧪 Practice your Python statistical analysis code below:"
      ],
      "metadata": {
        "id": "t8lfZvThcrSa"
      },
      "id": "t8lfZvThcrSa",
      "execution_count": null,
      "outputs": []
    }
  ],
  "metadata": {
    "colab": {
      "provenance": []
    },
    "kernelspec": {
      "display_name": "Python 3",
      "language": "python",
      "name": "python3"
    },
    "language_info": {
      "codemirror_mode": {
        "name": "ipython",
        "version": 3
      },
      "file_extension": ".py",
      "mimetype": "text/x-python",
      "name": "python",
      "nbconvert_exporter": "python",
      "pygments_lexer": "ipython3",
      "version": "3.8.5"
    }
  },
  "nbformat": 4,
  "nbformat_minor": 5
}