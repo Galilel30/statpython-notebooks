{
  "cells": [
    {
      "cell_type": "markdown",
      "id": "532be746",
      "metadata": {
        "id": "532be746"
      },
      "source": [
        "# Lesson 1 — Python Fundamentals for Statistical Analysis"
      ]
    },
    {
      "cell_type": "markdown",
      "id": "7f86ff60",
      "metadata": {
        "id": "7f86ff60"
      },
      "source": [
        "#🔹 Assignment 1: Create a Personalized Output Program\n",
        "\n",
        "###Objective: Practice Python syntax by writing your first custom Python script.\n",
        "\n",
        "Instructions:\n",
        "\n",
        "  * Create a Python script that prints:\n",
        "\n",
        "    - Your full name\n",
        "    - Your favorite subject\n",
        "    - A motivational quote you like\n",
        "\n",
        "  * Use print() statements correctly.\n",
        "  * Add comments to explain each line of your code.\n",
        "\n",
        "####Example Output:\n",
        "\n",
        "    #This program introduces me\n",
        "    Benyl John Arevalo\n",
        "    Statistics\n",
        "    Learning never exhausts the mind\n",
        "\n",
        "##Reflection:\n",
        "*How can clear commenting improve your code’s readability for others?*\n",
        "\n"
      ]
    },
    {
      "cell_type": "code",
      "execution_count": 4,
      "id": "b36c51c0",
      "metadata": {
        "id": "b36c51c0"
      },
      "outputs": [],
      "source": [
        "# 🧪 Practice your Python code below:"
      ]
    },
    {
      "cell_type": "markdown",
      "metadata": {
        "id": "H-w0c71-TUXN"
      },
      "source": [
        "#🔹 Assignment 2: Hello Python Calculator\n",
        "\n",
        "###Objective: Apply variables and arithmetic operations in Python.\n",
        "\n",
        "Instructions:\n",
        "\n",
        "  * Create a simple calculator that does:\n",
        "\n",
        "    - Addition\n",
        "    - Subtraction\n",
        "    - Multiplication\n",
        "    - Division\n",
        "\n",
        "  * Use variables like a = 10, b = 5 and print the results.\n",
        "  * Display the results clearly.\n",
        "\n",
        "####Example Output:\n",
        "\n",
        "    Addition: 15\n",
        "    Subtraction: 5\n",
        "    Multiplication: 50\n",
        "    Division: 2.0\n",
        "\n",
        "##Reflection:\n",
        "*How can this calculator be reused for other sets of numbers?*\n",
        "\n"
      ],
      "id": "H-w0c71-TUXN"
    },
    {
      "cell_type": "code",
      "execution_count": null,
      "metadata": {
        "id": "LmvjmmBtTUXO"
      },
      "outputs": [],
      "source": [
        "# 🧪 Practice your Python code below:\n"
      ],
      "id": "LmvjmmBtTUXO"
    }
  ],
  "metadata": {
    "colab": {
      "provenance": [],
      "generative_ai_disabled": true
    },
    "language_info": {
      "name": "python"
    },
    "kernelspec": {
      "name": "python3",
      "display_name": "Python 3"
    }
  },
  "nbformat": 4,
  "nbformat_minor": 5
}