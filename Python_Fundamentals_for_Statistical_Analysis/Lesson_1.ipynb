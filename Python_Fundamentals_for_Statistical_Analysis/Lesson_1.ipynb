{
  "cells": [
    {
      "cell_type": "markdown",
      "id": "532be746",
      "metadata": {
        "id": "532be746"
      },
      "source": [
        "# Lesson 1 — Python Fundamentals for Statistical Analysis"
      ]
    },
    {
      "cell_type": "markdown",
      "id": "7f86ff60",
      "metadata": {
        "id": "7f86ff60"
      },
      "source": [
        "Lesson 1: Getting Started with Python\n",
        "\n",
        "Objective: Develop familiarity with Python syntax and scripting.\n",
        "\n",
        "Assignment:\n",
        "Write a Python program that accepts a student's name, midterm grade, final grade, and computes the final weighted average (40% midterm, 60% final). Then assign a letter grade based on standard cutoffs.\n",
        "\n",
        "Instructions:\n",
        "\n",
        "  * Use input() statements for user data.\n",
        "\n",
        "  * Use variables and simple math operations.\n",
        "\n",
        "  * Use if/else logic to determine letter grade.\n",
        "\n",
        "  * Include comments to explain each section.\n",
        "\n",
        "Challenge: Refactor your code to use a function for grade calculation."
      ]
    },
    {
      "cell_type": "code",
      "execution_count": null,
      "id": "b36c51c0",
      "metadata": {
        "id": "b36c51c0"
      },
      "outputs": [],
      "source": [
        "# 🧪 Practice your Python code below:\n"
      ]
    }
  ],
  "metadata": {
    "colab": {
      "provenance": []
    }
  },
  "nbformat": 4,
  "nbformat_minor": 5
}