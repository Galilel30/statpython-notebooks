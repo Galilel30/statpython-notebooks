{
  "cells": [
    {
      "cell_type": "markdown",
      "id": "c1519885",
      "metadata": {
        "id": "c1519885"
      },
      "source": [
        "[![Open In Colab](https://colab.research.google.com/assets/colab-badge.svg)](https://colab.research.google.com/github/Galilel30/statpython-notebooks/blob/main/Python_Fundamentals_for_Statistical_Analysis/Lesson_1.ipynb?copy_to_drive=true)"
      ]
    },
    {
      "cell_type": "markdown",
      "id": "233cb037",
      "metadata": {
        "id": "233cb037"
      },
      "source": [
        "# Lesson 1\n",
        "\n",
        "**Module:** Python Fundamentals for Statistical Analysis"
      ]
    },
    {
      "cell_type": "markdown",
      "id": "c8cb1ea7",
      "metadata": {
        "id": "c8cb1ea7"
      },
      "source": [
        "## Learning Objectives\n",
        "\n",
        "Getting Started with Python: Learn how to set up Python, understand its syntax, and write basic programs.\n",
        "\n",
        "By the end of this lesson, you will be able to:\n",
        "- Understand the core concepts\n",
        "- Apply practical examples\n",
        "- Complete hands-on exercises"
      ]
    },
    {
      "cell_type": "markdown",
      "id": "af8424aa",
      "metadata": {
        "id": "af8424aa"
      },
      "source": [
        "## Setup\n",
        "\n",
        "Let's start by importing the necessary libraries."
      ]
    },
    {
      "cell_type": "code",
      "execution_count": null,
      "id": "b40afa0f",
      "metadata": {
        "id": "b40afa0f"
      },
      "outputs": [],
      "source": [
        "# Import necessary libraries\n",
        "import numpy as np\n",
        "import pandas as pd\n",
        "import matplotlib.pyplot as plt\n",
        "import seaborn as sns\n",
        "\n",
        "# Set plotting style\n",
        "plt.style.use('default')\n",
        "sns.set_palette('viridis')\n",
        "\n",
        "print('Libraries imported successfully!')"
      ]
    },
    {
      "cell_type": "markdown",
      "id": "665e5c25",
      "metadata": {
        "id": "665e5c25"
      },
      "source": [
        "## Practice Exercise\n",
        "\n",
        "Now it's time to practice what you've learned!\n",
        "\n",
        "**Instructions:**\n",
        "1. Read the problem carefully\n",
        "2. Write your code in the cell below\n",
        "3. Test your solution\n",
        "4. Experiment with different approaches"
      ]
    },
    {
      "cell_type": "code",
      "execution_count": null,
      "id": "d63a8da7",
      "metadata": {
        "id": "d63a8da7"
      },
      "outputs": [],
      "source": [
        "# 🧪 Practice your Python statistical analysis code below:\n",
        "\n"
      ]
    }
  ],
  "metadata": {
    "colab": {
      "provenance": []
    },
    "kernelspec": {
      "display_name": "Python 3",
      "language": "python",
      "name": "python3"
    },
    "language_info": {
      "codemirror_mode": {
        "name": "ipython",
        "version": 3
      },
      "file_extension": ".py",
      "mimetype": "text/x-python",
      "name": "python",
      "nbconvert_exporter": "python",
      "pygments_lexer": "ipython3",
      "version": "3.8.5"
    }
  },
  "nbformat": 4,
  "nbformat_minor": 5
}