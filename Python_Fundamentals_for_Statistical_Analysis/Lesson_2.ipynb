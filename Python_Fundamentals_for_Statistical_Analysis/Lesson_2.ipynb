{
  "cells": [
    {
      "cell_type": "markdown",
      "id": "ec2ac711",
      "metadata": {
        "id": "ec2ac711"
      },
      "source": [
        "# Lesson 2 — Python Fundamentals for Statistical Analysis"
      ]
    },
    {
      "cell_type": "markdown",
      "id": "7f94ac45",
      "metadata": {
        "id": "7f94ac45"
      },
      "source": [
        "Lesson 2: Data Structures and Logic\n",
        "\n",
        "#Objective: Learn to manage data using Python collections.\n",
        "\n",
        "Assignment:\n",
        "  * Create a list of student dictionaries, each containing name, grades, and attendance. Write functions to:\n",
        "\n",
        "  * Display all students with their average.\n",
        "\n",
        "  * Flag students with average < 75 or attendance < 80%.\n",
        "\n",
        "Instructions:\n",
        "\n",
        "  * Use lists, dictionaries, and functions.\n",
        "\n",
        "  * Implement conditionals and loops.\n",
        "\n",
        "  * Print structured outputs.\n",
        "\n",
        "#Challenge: Sort the list by average grade and print top 3 students."
      ]
    },
    {
      "cell_type": "code",
      "execution_count": null,
      "id": "40511a75",
      "metadata": {
        "id": "40511a75"
      },
      "outputs": [],
      "source": [
        "# 🧪 Practice your Python code below:\n"
      ]
    }
  ],
  "metadata": {
    "colab": {
      "provenance": []
    }
  },
  "nbformat": 4,
  "nbformat_minor": 5
}