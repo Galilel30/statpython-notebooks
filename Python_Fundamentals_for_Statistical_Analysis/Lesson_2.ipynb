{
  "cells": [
    {
      "cell_type": "markdown",
      "id": "ec2ac711",
      "metadata": {
        "id": "ec2ac711"
      },
      "source": [
        "# Lesson 2 — Python Fundamentals for Statistical Analysis"
      ]
    },
    {
      "cell_type": "markdown",
      "id": "7f94ac45",
      "metadata": {
        "id": "7f94ac45"
      },
      "source": [
        "🔹 Assignment 1: Student Data Organizer\n",
        "\n",
        "###Objective: Use Python lists and dictionaries to organize and analyze data.\n",
        "\n",
        "Instructions:\n",
        "\n",
        "  * Create a list of 3 students. Each student is a dictionary with:\n",
        "\n",
        "    - Name\n",
        "    - Age\n",
        "    - Final grade\n",
        "\n",
        "  * Print each student’s name and final grade.\n",
        "\n",
        "  * Add a loop to determine and print which students passed (grade ≥ 75).\n",
        "\n",
        "Example Dictionary:\n",
        "\n",
        "    students = [\n",
        "        {\"name\": \"Anna\", \"age\": 20, \"grade\": 80},\n",
        "        {\"name\": \"Ben\", \"age\": 19, \"grade\": 72},\n",
        "        {\"name\": \"Cara\", \"age\": 21, \"grade\": 88}\n",
        "    ]\n",
        "\n",
        "##Challenge:\n",
        "*What data structure would be best for storing large student records?*"
      ]
    },
    {
      "cell_type": "markdown",
      "metadata": {
        "id": "RdDYb10wW69C"
      },
      "source": [
        "🔹 Assignment 2: Build a Fish Counter Program\n",
        "\n",
        "###Objective: Apply control flow and functions to solve a practical problem.\n",
        "\n",
        "####Scenario:\n",
        "*You're observing fish in a coastal area. Each time a fish passes, you press a button. You want to build a counter.*\n",
        "\n",
        "Instructions:\n",
        "\n",
        "  * Use a loop to simulate 10 fish detections.\n",
        "  * Use a function count_fish() to print the running total each time.\n",
        "  * Add an if-condition to highlight when fish count exceeds 5.\n",
        "\n",
        "####Expected Output:\n",
        "\n",
        "    Fish #1 spotted. Total: 1\n",
        "    Fish #2 spotted. Total: 2\n",
        "    ...\n",
        "    Fish #6 spotted. Total: 6\n",
        "    >> ALERT: High fish activity!\n",
        "\n",
        "##Challenge:\n",
        "*How can this be extended to record types of fish?*"
      ],
      "id": "RdDYb10wW69C"
    },
    {
      "cell_type": "code",
      "execution_count": null,
      "id": "40511a75",
      "metadata": {
        "id": "40511a75"
      },
      "outputs": [],
      "source": [
        "# 🧪 Practice your Python code below:\n"
      ]
    }
  ],
  "metadata": {
    "colab": {
      "provenance": []
    }
  },
  "nbformat": 4,
  "nbformat_minor": 5
}