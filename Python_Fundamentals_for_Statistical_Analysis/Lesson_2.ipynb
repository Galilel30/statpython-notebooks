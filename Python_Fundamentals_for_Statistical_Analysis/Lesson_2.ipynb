{
  "cells": [
    {
      "cell_type": "markdown",
      "id": "d4280113",
      "metadata": {
        "id": "d4280113"
      },
      "source": [
        "[![Open In Colab](https://colab.research.google.com/assets/colab-badge.svg)](https://colab.research.google.com/github/Galilel30/statpython-notebooks/blob/main/Python_Fundamentals_for_Statistical_Analysis/Lesson_2.ipynb?copy_to_drive=true)"
      ]
    },
    {
      "cell_type": "markdown",
      "id": "f9fe501b",
      "metadata": {
        "id": "f9fe501b"
      },
      "source": [
        "# Assignment 2: Variables and Data Types in Python\n",
        "\n",
        "**Module:** Python Fundamentals for Statistical Analysis"
      ]
    },
    {
      "cell_type": "markdown",
      "id": "94d352bf",
      "metadata": {
        "id": "94d352bf"
      },
      "source": [
        "## Practice Exercise\n",
        "\n",
        "Now it's time to practice what you've learned!\n",
        "\n",
        "**Instructions:**\n",
        "1. Read the problem carefully\n",
        "2. Write your code in the cell below\n",
        "3. Test your solution\n",
        "4. Experiment with different approaches"
      ]
    },
    {
      "cell_type": "markdown",
      "source": [
        "### Task 1: Understanding Variables (10 points)\n",
        "\n",
        "- Create variables that store the following information about yourself:\n",
        "  - student_name (string)\n",
        "  - age (integer)\n",
        "  - height in meters (float)\n",
        "  - is_enrolled (boolean, True/False)\n",
        "\n",
        "- Print a formatted introduction using these variables.\n",
        "\n",
        "Example:\n",
        "```python\n",
        "My name is Benyl. I am 22 years old, 1.75 meters tall, and enrollment status is True.\n",
        "```"
      ],
      "metadata": {
        "id": "yes6hLq3eG4I"
      },
      "id": "yes6hLq3eG4I"
    },
    {
      "cell_type": "code",
      "execution_count": null,
      "id": "7c85fdff",
      "metadata": {
        "id": "7c85fdff"
      },
      "outputs": [],
      "source": [
        "# 🧪 Practice your Python statistical analysis code below:"
      ]
    },
    {
      "cell_type": "markdown",
      "source": [
        "### Task 2: Data Types in Action (15 points)\n",
        "\n",
        "- Create the following variables:\n",
        "  - x = 10 (int)\n",
        "  - y = 3.5 (float)\n",
        "  - z = 2 + 3j (complex)\n",
        "\n",
        "- Print their data types using type().\n",
        "- Convert x into float and y into int. Print the results."
      ],
      "metadata": {
        "id": "mQMW_pTReoEm"
      },
      "id": "mQMW_pTReoEm"
    },
    {
      "cell_type": "code",
      "source": [
        "# 🧪 Practice your Python statistical analysis code below:"
      ],
      "metadata": {
        "id": "-7VMQoLMeosa"
      },
      "id": "-7VMQoLMeosa",
      "execution_count": null,
      "outputs": []
    },
    {
      "cell_type": "markdown",
      "source": [
        "### Task 3: Type Conversion and Input (20 points)\n",
        "\n",
        "- Ask the user to input their age. Store it as a string first.\n",
        "- Convert it into an integer and calculate the year they will turn 100 years old (assume current year is 2025).\n",
        "\n",
        "Example interaction:\n",
        "```python\n",
        "Enter your age: 20\n",
        "You will turn 100 years old in the year 2105.\n",
        "```"
      ],
      "metadata": {
        "id": "D4oXk71we2iG"
      },
      "id": "D4oXk71we2iG"
    },
    {
      "cell_type": "code",
      "source": [
        "# 🧪 Practice your Python statistical analysis code below:"
      ],
      "metadata": {
        "id": "i-oEt0SEfAky"
      },
      "id": "i-oEt0SEfAky",
      "execution_count": null,
      "outputs": []
    },
    {
      "cell_type": "markdown",
      "source": [
        "### Task 4: Statistical Example – Survey Data (25 points)\n",
        "\n",
        "You conducted a mini-survey on student study hours per week:\n",
        "```python\n",
        "hours_student1 = \"12\"\n",
        "hours_student2 = \"15\"\n",
        "hours_student3 = \"10\"\n",
        "```\n",
        "- Convert these string values into integers.\n",
        "- Calculate and print the average study hours.\n",
        "- Print the result as:\n",
        "```python\n",
        "The average study hours of 3 students is 12.33 hours.\n",
        "```"
      ],
      "metadata": {
        "id": "cnTDwBwtfCoT"
      },
      "id": "cnTDwBwtfCoT"
    },
    {
      "cell_type": "code",
      "source": [
        "# 🧪 Practice your Python statistical analysis code below:"
      ],
      "metadata": {
        "id": "vvGETJZFfWJh"
      },
      "id": "vvGETJZFfWJh",
      "execution_count": null,
      "outputs": []
    },
    {
      "cell_type": "markdown",
      "source": [
        "### Task 5: Conditional Logic with Variables (30 points)\n",
        "- Ask the user for their quiz score (0–100).\n",
        "- Store it as an integer.\n",
        "- Print whether the student:\n",
        "  - \"Pass\" if score ≥ 75\n",
        "  - \"Fail\" if score < 75\n",
        "  - \"Perfect!\" if score = 100\n",
        "\n",
        "Example:\n",
        "```python\n",
        "Enter quiz score: 100\n",
        "Perfect!\n",
        "```"
      ],
      "metadata": {
        "id": "hZK5CFmGfX14"
      },
      "id": "hZK5CFmGfX14"
    },
    {
      "cell_type": "code",
      "source": [
        "# 🧪 Practice your Python statistical analysis code below:"
      ],
      "metadata": {
        "id": "DVLOWkfbfq_X"
      },
      "id": "DVLOWkfbfq_X",
      "execution_count": null,
      "outputs": []
    },
    {
      "cell_type": "markdown",
      "source": [
        "### Bonus Challenge (20 points extra credit)\n",
        "Mini Statistical Report Generator\n",
        "\n",
        "- Write a program that:\n",
        "  1. Asks the user for three integers representing quiz scores.\n",
        "  2. Stores them in variables.\n",
        "  3. Calculates and prints:\n",
        "    - Highest score\n",
        "    - Lowest score\n",
        "    - Average score (2 decimal places)\n",
        "\n",
        "Example:\n",
        "```python\n",
        "Enter first score: 88\n",
        "Enter second score: 95\n",
        "Enter third score: 72\n",
        "Highest Score: 95\n",
        "Lowest Score: 72\n",
        "Average Score: 85.00\n",
        "```"
      ],
      "metadata": {
        "id": "9omrpq65ftR-"
      },
      "id": "9omrpq65ftR-"
    },
    {
      "cell_type": "code",
      "source": [
        "# 🧪 Practice your Python statistical analysis code below:"
      ],
      "metadata": {
        "id": "RD9BVqWAgDot"
      },
      "id": "RD9BVqWAgDot",
      "execution_count": null,
      "outputs": []
    }
  ],
  "metadata": {
    "colab": {
      "provenance": []
    },
    "kernelspec": {
      "display_name": "Python 3",
      "language": "python",
      "name": "python3"
    },
    "language_info": {
      "codemirror_mode": {
        "name": "ipython",
        "version": 3
      },
      "file_extension": ".py",
      "mimetype": "text/x-python",
      "name": "python",
      "nbconvert_exporter": "python",
      "pygments_lexer": "ipython3",
      "version": "3.8.5"
    }
  },
  "nbformat": 4,
  "nbformat_minor": 5
}