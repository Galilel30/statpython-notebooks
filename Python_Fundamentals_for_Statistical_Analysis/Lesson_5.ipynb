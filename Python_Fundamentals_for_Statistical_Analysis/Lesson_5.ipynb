{
  "cells": [
    {
      "cell_type": "markdown",
      "id": "dc84d05e",
      "metadata": {
        "id": "dc84d05e"
      },
      "source": [
        "[![Open In Colab](https://colab.research.google.com/assets/colab-badge.svg)](https://colab.research.google.com/github/Galilel30/statpython-notebooks/blob/main/Python_Fundamentals_for_Statistical_Analysis/Lesson_5.ipynb?copy_to_drive=true)"
      ]
    },
    {
      "cell_type": "markdown",
      "id": "3f937e29",
      "metadata": {
        "id": "3f937e29"
      },
      "source": [
        "# Assignment 5: Introduction to Numpy\n",
        "\n",
        "**Module:** Python Fundamentals for Statistical Analysis"
      ]
    },
    {
      "cell_type": "markdown",
      "id": "faa99beb",
      "metadata": {
        "id": "faa99beb"
      },
      "source": [
        "## Practice Exercise (100 points)\n",
        "\n",
        "Now it's time to practice what you've learned!\n",
        "\n",
        "Instructions:\n",
        "\n",
        "Go to the file tab and click \"Save a copy in drive\"\n",
        "Read the problem carefully\n",
        "Write your code in the cell below\n",
        "Test your solution\n",
        "Experiment with different approaches"
      ]
    },
    {
      "cell_type": "markdown",
      "source": [
        "### Problem Scenario\n",
        "\n",
        "You are working as a junior data analyst at a fisheries research center. You are given a dataset containing the daily fish catch (in kilograms) of 10 boats over a 7-day period. The dataset is represented below:\n",
        "```python\n",
        "data = np.array([\n",
        "    [120, 135, 160, 145, 180, 175, 190],  # Boat 1\n",
        "    [95, 100, 110, 105, 98, 102, 108],    # Boat 2\n",
        "    [200, 210, 215, 205, 220, 225, 230],  # Boat 3\n",
        "    [50, 65, 70, 80, 85, 78, 72],         # Boat 4\n",
        "    [130, 140, 135, 150, 160, 155, 165],  # Boat 5\n",
        "    [75, 85, 95, 100, 105, 110, 115],     # Boat 6\n",
        "    [180, 190, 200, 210, 220, 230, 240],  # Boat 7\n",
        "    [60, 70, 80, 75, 85, 90, 95],         # Boat 8\n",
        "    [145, 150, 155, 160, 170, 175, 180],  # Boat 9\n",
        "    [100, 110, 120, 125, 130, 135, 140]   # Boat 10\n",
        "])\n",
        "```"
      ],
      "metadata": {
        "id": "5bDTaColyJ83"
      },
      "id": "5bDTaColyJ83"
    },
    {
      "cell_type": "markdown",
      "source": [
        "## Set Up: Import NumPy Library"
      ],
      "metadata": {
        "id": "BintxwsxykOq"
      },
      "id": "BintxwsxykOq"
    },
    {
      "cell_type": "code",
      "source": [
        "import numpy as np"
      ],
      "metadata": {
        "id": "-kECT2yXyuOv"
      },
      "id": "-kECT2yXyuOv",
      "execution_count": null,
      "outputs": []
    },
    {
      "cell_type": "markdown",
      "source": [
        "### Task 1: Basics of NumPy Arrays (20 points)\n",
        "\n",
        "  1. Print the shape and dimensions of data. (5 pts)\n",
        "  2. Extract the catches of Boat 3 for the entire week. (5 pts)\n",
        "  3. Extract the catches of Day 5 (all boats on day 5). (5 pts)\n",
        "  4. Compute the total catch of Boat 1 over the 7 days. (5 pts)"
      ],
      "metadata": {
        "id": "gsuKX9Uiyvh1"
      },
      "id": "gsuKX9Uiyvh1"
    },
    {
      "cell_type": "code",
      "execution_count": null,
      "id": "3352dd2b",
      "metadata": {
        "id": "3352dd2b"
      },
      "outputs": [],
      "source": [
        "# 🧪 Practice your Python statistical analysis code below:"
      ]
    },
    {
      "cell_type": "markdown",
      "source": [
        "### Task 2: Statistical Analysis with NumPy (30 points)\n",
        "\n",
        "  1. Compute the mean catch per day (across all boats). (10 pts)\n",
        "  2. Compute the variance and standard deviation of Boat 7’s catches. (10 pts)\n",
        "  3. Identify the day with the highest overall catch. (10 pts)"
      ],
      "metadata": {
        "id": "HsvYCbGAzKPv"
      },
      "id": "HsvYCbGAzKPv"
    },
    {
      "cell_type": "code",
      "execution_count": null,
      "metadata": {
        "id": "BkMXaWwozJxq"
      },
      "outputs": [],
      "source": [
        "# 🧪 Practice your Python statistical analysis code below:"
      ],
      "id": "BkMXaWwozJxq"
    },
    {
      "cell_type": "markdown",
      "source": [
        "### Task 3: Data Filtering and Boolean Indexing (20 points)\n",
        "\n",
        "  1. Use boolean indexing to find all days where Boat 4 caught more than 70 kg. (10 pts)\n",
        "  \n",
        "  2. Identify all boats that had at least one day with a catch greater than 200 kg. (10 pts)"
      ],
      "metadata": {
        "id": "JFCB1CFdzU9r"
      },
      "id": "JFCB1CFdzU9r"
    },
    {
      "cell_type": "code",
      "execution_count": null,
      "metadata": {
        "id": "t7Wml3K1zUjN"
      },
      "outputs": [],
      "source": [
        "# 🧪 Practice your Python statistical analysis code below:"
      ],
      "id": "t7Wml3K1zUjN"
    },
    {
      "cell_type": "markdown",
      "source": [
        "### Task 4: Vectorization and Broadcasting (20 points)\n",
        "\n",
        "  1. Suppose each boat must pay a processing fee of 5% per day on their catch. Use broadcasting to compute the net catch after fees. (10 pts)\n",
        "  \n",
        "  2. Compute the z-scores (standardized values) for Boat 5’s catches using vectorized operations. (10 pts)"
      ],
      "metadata": {
        "id": "heFC-ey6zhon"
      },
      "id": "heFC-ey6zhon"
    },
    {
      "cell_type": "code",
      "execution_count": null,
      "metadata": {
        "id": "pB4TcIMCzhJW"
      },
      "outputs": [],
      "source": [
        "# 🧪 Practice your Python statistical analysis code below:"
      ],
      "id": "pB4TcIMCzhJW"
    },
    {
      "cell_type": "markdown",
      "source": [
        "### Task 5: Applied Problem (10 points)\n",
        "Using NumPy functions only:\n",
        "  - Compute the moving average (window=3) of Boat 9’s catches to detect trends. (10 pts)"
      ],
      "metadata": {
        "id": "l7u-aE4YzugU"
      },
      "id": "l7u-aE4YzugU"
    },
    {
      "cell_type": "code",
      "execution_count": null,
      "metadata": {
        "id": "GhyJcNqOzuCw"
      },
      "outputs": [],
      "source": [
        "# 🧪 Practice your Python statistical analysis code below:"
      ],
      "id": "GhyJcNqOzuCw"
    }
  ],
  "metadata": {
    "colab": {
      "provenance": []
    },
    "kernelspec": {
      "display_name": "Python 3",
      "language": "python",
      "name": "python3"
    },
    "language_info": {
      "codemirror_mode": {
        "name": "ipython",
        "version": 3
      },
      "file_extension": ".py",
      "mimetype": "text/x-python",
      "name": "python",
      "nbconvert_exporter": "python",
      "pygments_lexer": "ipython3",
      "version": "3.8.5"
    }
  },
  "nbformat": 4,
  "nbformat_minor": 5
}