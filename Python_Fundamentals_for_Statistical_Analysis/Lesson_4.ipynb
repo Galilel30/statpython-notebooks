{
  "cells": [
    {
      "cell_type": "markdown",
      "id": "c1b50126",
      "metadata": {
        "id": "c1b50126"
      },
      "source": [
        "[![Open In Colab](https://colab.research.google.com/assets/colab-badge.svg)](https://colab.research.google.com/github/Galilel30/statpython-notebooks/blob/main/Python_Fundamentals_for_Statistical_Analysis/Lesson_4.ipynb?copy_to_drive=true)"
      ]
    },
    {
      "cell_type": "markdown",
      "id": "251beeec",
      "metadata": {
        "id": "251beeec"
      },
      "source": [
        "# Assignment 4: Control Flow and Functions in Python\n",
        "\n",
        "**Module:** Python Fundamentals for Statistical Analysis"
      ]
    },
    {
      "cell_type": "markdown",
      "id": "540ebfbd",
      "metadata": {
        "id": "540ebfbd"
      },
      "source": [
        "## Practice Exercise\n",
        "\n",
        "Now it's time to practice what you've learned!\n",
        "\n",
        "**Instructions:**\n",
        "1. Go to the file tab and click \"Save a copy in drive\"\n",
        "2. Read the problem carefully\n",
        "3. Write your code in the cell below\n",
        "4. Test your solution\n",
        "5. Experiment with different approaches"
      ]
    },
    {
      "cell_type": "markdown",
      "source": [
        "### Task 1: Conditional Statements (10 points)\n",
        "\n",
        "- Write a program that asks the user to enter their age.\n",
        "  - If age < 18 → print \"Minor\"\n",
        "  - If age is between 18 and 60 → print \"Adult\"\n",
        "  - If age ≥ 60 → print \"Senior Citizen\""
      ],
      "metadata": {
        "id": "IGQt58nKnN5u"
      },
      "id": "IGQt58nKnN5u"
    },
    {
      "cell_type": "code",
      "execution_count": null,
      "id": "ecd6e73e",
      "metadata": {
        "id": "ecd6e73e"
      },
      "outputs": [],
      "source": [
        "# 🧪 Practice your Python statistical analysis code below:"
      ]
    },
    {
      "cell_type": "markdown",
      "source": [
        "### Task 2: Logical Operators and Validation (15 points)\n",
        "\n",
        "- Ask the user to enter a grade (0–100).\n",
        "- If input is valid (between 0 and 100):\n",
        "  - Print \"Pass\" if ≥ 75, otherwise \"Fail\".\n",
        "- If input is invalid (less than 0 or greater than 100):\n",
        "  - Print \"Invalid grade entered\"."
      ],
      "metadata": {
        "id": "JNQE0C67nXNz"
      },
      "id": "JNQE0C67nXNz"
    },
    {
      "cell_type": "code",
      "execution_count": null,
      "metadata": {
        "id": "6in03Gk7nWue"
      },
      "outputs": [],
      "source": [
        "# 🧪 Practice your Python statistical analysis code below:"
      ],
      "id": "6in03Gk7nWue"
    },
    {
      "cell_type": "markdown",
      "source": [
        "### Task 3: Loops for Data Processing (15 points)\n",
        "\n",
        "Given the dataset of fish weights (grams):\n",
        "```python\n",
        "weights = [200, 215, 180, 210, 190, 205]\n",
        "```\n",
        "- Use a for loop to calculate the average weight.\n",
        "- Use a while loop to print each weight until a weight greater than 210 is found (then stop using break)."
      ],
      "metadata": {
        "id": "qhljdFf-nlVt"
      },
      "id": "qhljdFf-nlVt"
    },
    {
      "cell_type": "code",
      "execution_count": null,
      "metadata": {
        "id": "SQaUmpDank9s"
      },
      "outputs": [],
      "source": [
        "# 🧪 Practice your Python statistical analysis code below:"
      ],
      "id": "SQaUmpDank9s"
    },
    {
      "cell_type": "markdown",
      "source": [
        "### Task 4: Writing Functions (20 points)\n",
        "\n",
        "- Define a function mean(values) that:\n",
        "  - Takes a list of numbers as input.\n",
        "  - Returns the average value.\n",
        "- Then test it with:\n",
        "```python\n",
        "[12, 15, 18, 20, 22]\n",
        "```"
      ],
      "metadata": {
        "id": "Hvnp6RWCny_K"
      },
      "id": "Hvnp6RWCny_K"
    },
    {
      "cell_type": "code",
      "execution_count": null,
      "metadata": {
        "id": "EjXWxlh_nyqw"
      },
      "outputs": [],
      "source": [
        "# 🧪 Practice your Python statistical analysis code below:"
      ],
      "id": "EjXWxlh_nyqw"
    },
    {
      "cell_type": "markdown",
      "source": [
        "### Task 5: Functions with Parameters and Default Arguments (20 points)\n",
        "\n",
        "Define a function bmi(weight, height, unit=\"metric\") that:\n",
        "  - If unit=\"metric\", computes BMI as weight / (height**2) (kg/m²).\n",
        "  - If unit=\"imperial\", computes BMI as 703 * weight / (height**2) (lbs/in²).\n",
        "  - Returns the BMI value.\n",
        "\n",
        "Test the function with at least two examples (one metric, one imperial)."
      ],
      "metadata": {
        "id": "YTX9oWXUoAcW"
      },
      "id": "YTX9oWXUoAcW"
    },
    {
      "cell_type": "code",
      "execution_count": null,
      "metadata": {
        "id": "R9dB4z7AoAGJ"
      },
      "outputs": [],
      "source": [
        "# 🧪 Practice your Python statistical analysis code below:"
      ],
      "id": "R9dB4z7AoAGJ"
    },
    {
      "cell_type": "markdown",
      "source": [
        "### Task 6: Real-World Application (20 points)\n",
        "\n",
        "Write a function group_mean(data, group) where:\n",
        "  - data is a list of numeric values.\n",
        "  - group is a list of group labels (same length as data).\n",
        "  - The function should return a dictionary of group averages.\n",
        "\n",
        "Example:\n",
        "```python\n",
        "values = [10, 15, 20, 25, 30]\n",
        "groups = [\"A\", \"A\", \"B\", \"B\", \"B\"]\n",
        "\n",
        "group_mean(values, groups)\n",
        "```\n",
        "Expected output:\n",
        "```python\n",
        "{\"A\": 12.5, \"B\": 25.0}\n",
        "```\n"
      ],
      "metadata": {
        "id": "fcEmy1uEoNa0"
      },
      "id": "fcEmy1uEoNa0"
    },
    {
      "cell_type": "code",
      "execution_count": null,
      "metadata": {
        "id": "-_tQ6YRKoNFy"
      },
      "outputs": [],
      "source": [
        "# 🧪 Practice your Python statistical analysis code below:"
      ],
      "id": "-_tQ6YRKoNFy"
    },
    {
      "cell_type": "markdown",
      "source": [
        "### Bonus Challenge: Mini T-Test Function (20 points extra credit)\n",
        "\n",
        "Write a function t_test(group1, group2) that:\n",
        "  1. Computes the mean of each group.\n",
        "  2. Computes the difference of means.\n",
        "  3. Returns the result as:\n",
        "```python\n",
        "{\"mean_group1\": x, \"mean_group2\": y, \"difference\": z}\n",
        "```\n",
        "Example:\n",
        "```python\n",
        "t_test([10, 12, 15], [20, 22, 25])\n",
        "```\n",
        "Expected Output:\n",
        "```python\n",
        "{\"mean_group1\": 12.33, \"mean_group2\": 22.33, \"difference\": -10.0}\n",
        "```"
      ],
      "metadata": {
        "id": "MyL0fmesoimT"
      },
      "id": "MyL0fmesoimT"
    },
    {
      "cell_type": "code",
      "execution_count": null,
      "metadata": {
        "id": "vbtr_NzGoiSS"
      },
      "outputs": [],
      "source": [
        "# 🧪 Practice your Python statistical analysis code below:"
      ],
      "id": "vbtr_NzGoiSS"
    }
  ],
  "metadata": {
    "colab": {
      "provenance": []
    },
    "kernelspec": {
      "display_name": "Python 3",
      "language": "python",
      "name": "python3"
    },
    "language_info": {
      "codemirror_mode": {
        "name": "ipython",
        "version": 3
      },
      "file_extension": ".py",
      "mimetype": "text/x-python",
      "name": "python",
      "nbconvert_exporter": "python",
      "pygments_lexer": "ipython3",
      "version": "3.8.5"
    }
  },
  "nbformat": 4,
  "nbformat_minor": 5
}